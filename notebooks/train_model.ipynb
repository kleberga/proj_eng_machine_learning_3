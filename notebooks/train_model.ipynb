{
 "cells": [
  {
   "cell_type": "code",
   "execution_count": 1,
   "id": "3240d5ef-f138-4f0d-9041-1a860e311a7d",
   "metadata": {},
   "outputs": [
    {
     "data": {
      "text/html": [
       "<pre style=\"white-space:pre;overflow-x:auto;line-height:normal;font-family:Menlo,'DejaVu Sans Mono',consolas,'Courier New',monospace\"><span style=\"color: #7fbfbf; text-decoration-color: #7fbfbf\">                    </span><span style=\"color: #000080; text-decoration-color: #000080\">INFO    </span> Loading data from <span style=\"color: #ff8700; text-decoration-color: #ff8700\">base_train</span> <span style=\"font-weight: bold\">(</span>ParquetDataset<span style=\"font-weight: bold\">)</span><span style=\"color: #808000; text-decoration-color: #808000\">...</span>                   <a href=\"file://C:\\Users\\Kleber\\Documents\\curso_intel_artificial\\eng_machine_learning\\eng_machine_proj\\virt_eng_mac_proj\\Lib\\site-packages\\kedro\\io\\data_catalog.py\" target=\"_blank\"><span style=\"color: #7f7f7f; text-decoration-color: #7f7f7f\">data_catalog.py</span></a><span style=\"color: #7f7f7f; text-decoration-color: #7f7f7f\">:</span><a href=\"file://C:\\Users\\Kleber\\Documents\\curso_intel_artificial\\eng_machine_learning\\eng_machine_proj\\virt_eng_mac_proj\\Lib\\site-packages\\kedro\\io\\data_catalog.py#401\" target=\"_blank\"><span style=\"color: #7f7f7f; text-decoration-color: #7f7f7f\">401</span></a>\n",
       "</pre>\n"
      ],
      "text/plain": [
       "\u001b[2;36m                   \u001b[0m\u001b[2;36m \u001b[0m\u001b[34mINFO    \u001b[0m Loading data from \u001b[38;5;208mbase_train\u001b[0m \u001b[1m(\u001b[0mParquetDataset\u001b[1m)\u001b[0m\u001b[33m...\u001b[0m                   \u001b]8;id=37288;file://C:\\Users\\Kleber\\Documents\\curso_intel_artificial\\eng_machine_learning\\eng_machine_proj\\virt_eng_mac_proj\\Lib\\site-packages\\kedro\\io\\data_catalog.py\u001b\\\u001b[2mdata_catalog.py\u001b[0m\u001b]8;;\u001b\\\u001b[2m:\u001b[0m\u001b]8;id=294048;file://C:\\Users\\Kleber\\Documents\\curso_intel_artificial\\eng_machine_learning\\eng_machine_proj\\virt_eng_mac_proj\\Lib\\site-packages\\kedro\\io\\data_catalog.py#401\u001b\\\u001b[2m401\u001b[0m\u001b]8;;\u001b\\\n"
      ]
     },
     "metadata": {},
     "output_type": "display_data"
    }
   ],
   "source": [
    "base_train = catalog.load(\"base_train\")"
   ]
  },
  {
   "cell_type": "code",
   "execution_count": 24,
   "id": "feda8ec7-6c9e-46a5-bbe8-becd0cca62a7",
   "metadata": {},
   "outputs": [
    {
     "data": {
      "text/html": [
       "<pre style=\"white-space:pre;overflow-x:auto;line-height:normal;font-family:Menlo,'DejaVu Sans Mono',consolas,'Courier New',monospace\"><span style=\"color: #7fbfbf; text-decoration-color: #7fbfbf\">[03/24/25 15:08:02] </span><span style=\"color: #000080; text-decoration-color: #000080\">INFO    </span> Loading data from <span style=\"color: #ff8700; text-decoration-color: #ff8700\">base_test</span> <span style=\"font-weight: bold\">(</span>ParquetDataset<span style=\"font-weight: bold\">)</span><span style=\"color: #808000; text-decoration-color: #808000\">...</span>                    <a href=\"file://C:\\Users\\Kleber\\Documents\\curso_intel_artificial\\eng_machine_learning\\eng_machine_proj\\virt_eng_mac_proj\\Lib\\site-packages\\kedro\\io\\data_catalog.py\" target=\"_blank\"><span style=\"color: #7f7f7f; text-decoration-color: #7f7f7f\">data_catalog.py</span></a><span style=\"color: #7f7f7f; text-decoration-color: #7f7f7f\">:</span><a href=\"file://C:\\Users\\Kleber\\Documents\\curso_intel_artificial\\eng_machine_learning\\eng_machine_proj\\virt_eng_mac_proj\\Lib\\site-packages\\kedro\\io\\data_catalog.py#401\" target=\"_blank\"><span style=\"color: #7f7f7f; text-decoration-color: #7f7f7f\">401</span></a>\n",
       "</pre>\n"
      ],
      "text/plain": [
       "\u001b[2;36m[03/24/25 15:08:02]\u001b[0m\u001b[2;36m \u001b[0m\u001b[34mINFO    \u001b[0m Loading data from \u001b[38;5;208mbase_test\u001b[0m \u001b[1m(\u001b[0mParquetDataset\u001b[1m)\u001b[0m\u001b[33m...\u001b[0m                    \u001b]8;id=706918;file://C:\\Users\\Kleber\\Documents\\curso_intel_artificial\\eng_machine_learning\\eng_machine_proj\\virt_eng_mac_proj\\Lib\\site-packages\\kedro\\io\\data_catalog.py\u001b\\\u001b[2mdata_catalog.py\u001b[0m\u001b]8;;\u001b\\\u001b[2m:\u001b[0m\u001b]8;id=671141;file://C:\\Users\\Kleber\\Documents\\curso_intel_artificial\\eng_machine_learning\\eng_machine_proj\\virt_eng_mac_proj\\Lib\\site-packages\\kedro\\io\\data_catalog.py#401\u001b\\\u001b[2m401\u001b[0m\u001b]8;;\u001b\\\n"
      ]
     },
     "metadata": {},
     "output_type": "display_data"
    }
   ],
   "source": [
    "base_test = catalog.load(\"base_test\")"
   ]
  },
  {
   "cell_type": "code",
   "execution_count": 20,
   "id": "0f0f9242-a169-425e-b23e-1d3385bcdfca",
   "metadata": {
    "scrolled": true
   },
   "outputs": [
    {
     "data": {
      "text/html": [
       "<pre style=\"white-space:pre;overflow-x:auto;line-height:normal;font-family:Menlo,'DejaVu Sans Mono',consolas,'Courier New',monospace\"></pre>\n"
      ],
      "text/plain": []
     },
     "metadata": {},
     "output_type": "display_data"
    },
    {
     "data": {
      "text/html": [
       "<div>\n",
       "<style scoped>\n",
       "    .dataframe tbody tr th:only-of-type {\n",
       "        vertical-align: middle;\n",
       "    }\n",
       "\n",
       "    .dataframe tbody tr th {\n",
       "        vertical-align: top;\n",
       "    }\n",
       "\n",
       "    .dataframe thead th {\n",
       "        text-align: right;\n",
       "    }\n",
       "</style>\n",
       "<table border=\"1\" class=\"dataframe\">\n",
       "  <thead>\n",
       "    <tr style=\"text-align: right;\">\n",
       "      <th></th>\n",
       "      <th>lat</th>\n",
       "      <th>lon</th>\n",
       "      <th>minutes_remaining</th>\n",
       "      <th>period</th>\n",
       "      <th>playoffs</th>\n",
       "      <th>shot_distance</th>\n",
       "      <th>shot_made_flag</th>\n",
       "    </tr>\n",
       "  </thead>\n",
       "  <tbody>\n",
       "    <tr>\n",
       "      <th>29350</th>\n",
       "      <td>33.9373</td>\n",
       "      <td>-118.1508</td>\n",
       "      <td>6</td>\n",
       "      <td>4</td>\n",
       "      <td>1</td>\n",
       "      <td>16</td>\n",
       "      <td>0.0</td>\n",
       "    </tr>\n",
       "    <tr>\n",
       "      <th>6911</th>\n",
       "      <td>34.0443</td>\n",
       "      <td>-118.4238</td>\n",
       "      <td>11</td>\n",
       "      <td>1</td>\n",
       "      <td>0</td>\n",
       "      <td>15</td>\n",
       "      <td>0.0</td>\n",
       "    </tr>\n",
       "    <tr>\n",
       "      <th>23696</th>\n",
       "      <td>34.0443</td>\n",
       "      <td>-118.2698</td>\n",
       "      <td>5</td>\n",
       "      <td>2</td>\n",
       "      <td>0</td>\n",
       "      <td>0</td>\n",
       "      <td>0.0</td>\n",
       "    </tr>\n",
       "    <tr>\n",
       "      <th>29743</th>\n",
       "      <td>33.8653</td>\n",
       "      <td>-118.1868</td>\n",
       "      <td>3</td>\n",
       "      <td>3</td>\n",
       "      <td>1</td>\n",
       "      <td>19</td>\n",
       "      <td>0.0</td>\n",
       "    </tr>\n",
       "    <tr>\n",
       "      <th>26082</th>\n",
       "      <td>33.9123</td>\n",
       "      <td>-118.3268</td>\n",
       "      <td>1</td>\n",
       "      <td>3</td>\n",
       "      <td>0</td>\n",
       "      <td>14</td>\n",
       "      <td>1.0</td>\n",
       "    </tr>\n",
       "    <tr>\n",
       "      <th>...</th>\n",
       "      <td>...</td>\n",
       "      <td>...</td>\n",
       "      <td>...</td>\n",
       "      <td>...</td>\n",
       "      <td>...</td>\n",
       "      <td>...</td>\n",
       "      <td>...</td>\n",
       "    </tr>\n",
       "    <tr>\n",
       "      <th>15151</th>\n",
       "      <td>34.0443</td>\n",
       "      <td>-118.2698</td>\n",
       "      <td>8</td>\n",
       "      <td>1</td>\n",
       "      <td>0</td>\n",
       "      <td>0</td>\n",
       "      <td>1.0</td>\n",
       "    </tr>\n",
       "    <tr>\n",
       "      <th>12072</th>\n",
       "      <td>34.0443</td>\n",
       "      <td>-118.2698</td>\n",
       "      <td>6</td>\n",
       "      <td>3</td>\n",
       "      <td>0</td>\n",
       "      <td>0</td>\n",
       "      <td>1.0</td>\n",
       "    </tr>\n",
       "    <tr>\n",
       "      <th>12537</th>\n",
       "      <td>34.0443</td>\n",
       "      <td>-118.2698</td>\n",
       "      <td>0</td>\n",
       "      <td>1</td>\n",
       "      <td>0</td>\n",
       "      <td>0</td>\n",
       "      <td>0.0</td>\n",
       "    </tr>\n",
       "    <tr>\n",
       "      <th>20600</th>\n",
       "      <td>33.8803</td>\n",
       "      <td>-118.3898</td>\n",
       "      <td>6</td>\n",
       "      <td>1</td>\n",
       "      <td>0</td>\n",
       "      <td>20</td>\n",
       "      <td>0.0</td>\n",
       "    </tr>\n",
       "    <tr>\n",
       "      <th>24856</th>\n",
       "      <td>33.8433</td>\n",
       "      <td>-118.3178</td>\n",
       "      <td>4</td>\n",
       "      <td>3</td>\n",
       "      <td>0</td>\n",
       "      <td>20</td>\n",
       "      <td>0.0</td>\n",
       "    </tr>\n",
       "  </tbody>\n",
       "</table>\n",
       "<p>4057 rows × 7 columns</p>\n",
       "</div>"
      ],
      "text/plain": [
       "\n",
       "           lat       lon  minutes_remaining  period  playoffs  shot_distance  \\\n",
       "\u001b[1;36m29350\u001b[0m  \u001b[1;36m33.9373\u001b[0m \u001b[1;36m-118.1508\u001b[0m                  \u001b[1;36m6\u001b[0m       \u001b[1;36m4\u001b[0m         \u001b[1;36m1\u001b[0m             \u001b[1;36m16\u001b[0m   \n",
       "\u001b[1;36m6911\u001b[0m   \u001b[1;36m34.0443\u001b[0m \u001b[1;36m-118.4238\u001b[0m                 \u001b[1;36m11\u001b[0m       \u001b[1;36m1\u001b[0m         \u001b[1;36m0\u001b[0m             \u001b[1;36m15\u001b[0m   \n",
       "\u001b[1;36m23696\u001b[0m  \u001b[1;36m34.0443\u001b[0m \u001b[1;36m-118.2698\u001b[0m                  \u001b[1;36m5\u001b[0m       \u001b[1;36m2\u001b[0m         \u001b[1;36m0\u001b[0m              \u001b[1;36m0\u001b[0m   \n",
       "\u001b[1;36m29743\u001b[0m  \u001b[1;36m33.8653\u001b[0m \u001b[1;36m-118.1868\u001b[0m                  \u001b[1;36m3\u001b[0m       \u001b[1;36m3\u001b[0m         \u001b[1;36m1\u001b[0m             \u001b[1;36m19\u001b[0m   \n",
       "\u001b[1;36m26082\u001b[0m  \u001b[1;36m33.9123\u001b[0m \u001b[1;36m-118.3268\u001b[0m                  \u001b[1;36m1\u001b[0m       \u001b[1;36m3\u001b[0m         \u001b[1;36m0\u001b[0m             \u001b[1;36m14\u001b[0m   \n",
       "\u001b[33m...\u001b[0m        \u001b[33m...\u001b[0m       \u001b[33m...\u001b[0m                \u001b[33m...\u001b[0m     \u001b[33m...\u001b[0m       \u001b[33m...\u001b[0m            \u001b[33m...\u001b[0m   \n",
       "\u001b[1;36m15151\u001b[0m  \u001b[1;36m34.0443\u001b[0m \u001b[1;36m-118.2698\u001b[0m                  \u001b[1;36m8\u001b[0m       \u001b[1;36m1\u001b[0m         \u001b[1;36m0\u001b[0m              \u001b[1;36m0\u001b[0m   \n",
       "\u001b[1;36m12072\u001b[0m  \u001b[1;36m34.0443\u001b[0m \u001b[1;36m-118.2698\u001b[0m                  \u001b[1;36m6\u001b[0m       \u001b[1;36m3\u001b[0m         \u001b[1;36m0\u001b[0m              \u001b[1;36m0\u001b[0m   \n",
       "\u001b[1;36m12537\u001b[0m  \u001b[1;36m34.0443\u001b[0m \u001b[1;36m-118.2698\u001b[0m                  \u001b[1;36m0\u001b[0m       \u001b[1;36m1\u001b[0m         \u001b[1;36m0\u001b[0m              \u001b[1;36m0\u001b[0m   \n",
       "\u001b[1;36m20600\u001b[0m  \u001b[1;36m33.8803\u001b[0m \u001b[1;36m-118.3898\u001b[0m                  \u001b[1;36m6\u001b[0m       \u001b[1;36m1\u001b[0m         \u001b[1;36m0\u001b[0m             \u001b[1;36m20\u001b[0m   \n",
       "\u001b[1;36m24856\u001b[0m  \u001b[1;36m33.8433\u001b[0m \u001b[1;36m-118.3178\u001b[0m                  \u001b[1;36m4\u001b[0m       \u001b[1;36m3\u001b[0m         \u001b[1;36m0\u001b[0m             \u001b[1;36m20\u001b[0m   \n",
       "\n",
       "       shot_made_flag  \n",
       "\u001b[1;36m29350\u001b[0m             \u001b[1;36m0.0\u001b[0m  \n",
       "\u001b[1;36m6911\u001b[0m              \u001b[1;36m0.0\u001b[0m  \n",
       "\u001b[1;36m23696\u001b[0m             \u001b[1;36m0.0\u001b[0m  \n",
       "\u001b[1;36m29743\u001b[0m             \u001b[1;36m0.0\u001b[0m  \n",
       "\u001b[1;36m26082\u001b[0m             \u001b[1;36m1.0\u001b[0m  \n",
       "\u001b[33m...\u001b[0m               \u001b[33m...\u001b[0m  \n",
       "\u001b[1;36m15151\u001b[0m             \u001b[1;36m1.0\u001b[0m  \n",
       "\u001b[1;36m12072\u001b[0m             \u001b[1;36m1.0\u001b[0m  \n",
       "\u001b[1;36m12537\u001b[0m             \u001b[1;36m0.0\u001b[0m  \n",
       "\u001b[1;36m20600\u001b[0m             \u001b[1;36m0.0\u001b[0m  \n",
       "\u001b[1;36m24856\u001b[0m             \u001b[1;36m0.0\u001b[0m  \n",
       "\n",
       "\u001b[1m[\u001b[0m\u001b[1;36m4057\u001b[0m rows x \u001b[1;36m7\u001b[0m columns\u001b[1m]\u001b[0m"
      ]
     },
     "execution_count": 20,
     "metadata": {},
     "output_type": "execute_result"
    }
   ],
   "source": [
    "base_test"
   ]
  },
  {
   "cell_type": "code",
   "execution_count": 37,
   "id": "fbef6b4e-83f3-4334-a30e-bf566892d34a",
   "metadata": {
    "scrolled": true
   },
   "outputs": [
    {
     "data": {
      "text/html": [
       "<pre style=\"white-space:pre;overflow-x:auto;line-height:normal;font-family:Menlo,'DejaVu Sans Mono',consolas,'Courier New',monospace\"></pre>\n"
      ],
      "text/plain": []
     },
     "metadata": {},
     "output_type": "display_data"
    },
    {
     "data": {
      "text/html": [
       "<style type=\"text/css\">\n",
       "#T_bb420_row8_col1 {\n",
       "  background-color: lightgreen;\n",
       "}\n",
       "</style>\n",
       "<table id=\"T_bb420\">\n",
       "  <thead>\n",
       "    <tr>\n",
       "      <th class=\"blank level0\" >&nbsp;</th>\n",
       "      <th id=\"T_bb420_level0_col0\" class=\"col_heading level0 col0\" >Description</th>\n",
       "      <th id=\"T_bb420_level0_col1\" class=\"col_heading level0 col1\" >Value</th>\n",
       "    </tr>\n",
       "  </thead>\n",
       "  <tbody>\n",
       "    <tr>\n",
       "      <th id=\"T_bb420_level0_row0\" class=\"row_heading level0 row0\" >0</th>\n",
       "      <td id=\"T_bb420_row0_col0\" class=\"data row0 col0\" >Session id</td>\n",
       "      <td id=\"T_bb420_row0_col1\" class=\"data row0 col1\" >1146</td>\n",
       "    </tr>\n",
       "    <tr>\n",
       "      <th id=\"T_bb420_level0_row1\" class=\"row_heading level0 row1\" >1</th>\n",
       "      <td id=\"T_bb420_row1_col0\" class=\"data row1 col0\" >Target</td>\n",
       "      <td id=\"T_bb420_row1_col1\" class=\"data row1 col1\" >shot_made_flag</td>\n",
       "    </tr>\n",
       "    <tr>\n",
       "      <th id=\"T_bb420_level0_row2\" class=\"row_heading level0 row2\" >2</th>\n",
       "      <td id=\"T_bb420_row2_col0\" class=\"data row2 col0\" >Target type</td>\n",
       "      <td id=\"T_bb420_row2_col1\" class=\"data row2 col1\" >Binary</td>\n",
       "    </tr>\n",
       "    <tr>\n",
       "      <th id=\"T_bb420_level0_row3\" class=\"row_heading level0 row3\" >3</th>\n",
       "      <td id=\"T_bb420_row3_col0\" class=\"data row3 col0\" >Original data shape</td>\n",
       "      <td id=\"T_bb420_row3_col1\" class=\"data row3 col1\" >(20285, 7)</td>\n",
       "    </tr>\n",
       "    <tr>\n",
       "      <th id=\"T_bb420_level0_row4\" class=\"row_heading level0 row4\" >4</th>\n",
       "      <td id=\"T_bb420_row4_col0\" class=\"data row4 col0\" >Transformed data shape</td>\n",
       "      <td id=\"T_bb420_row4_col1\" class=\"data row4 col1\" >(20285, 7)</td>\n",
       "    </tr>\n",
       "    <tr>\n",
       "      <th id=\"T_bb420_level0_row5\" class=\"row_heading level0 row5\" >5</th>\n",
       "      <td id=\"T_bb420_row5_col0\" class=\"data row5 col0\" >Transformed train set shape</td>\n",
       "      <td id=\"T_bb420_row5_col1\" class=\"data row5 col1\" >(16228, 7)</td>\n",
       "    </tr>\n",
       "    <tr>\n",
       "      <th id=\"T_bb420_level0_row6\" class=\"row_heading level0 row6\" >6</th>\n",
       "      <td id=\"T_bb420_row6_col0\" class=\"data row6 col0\" >Transformed test set shape</td>\n",
       "      <td id=\"T_bb420_row6_col1\" class=\"data row6 col1\" >(4057, 7)</td>\n",
       "    </tr>\n",
       "    <tr>\n",
       "      <th id=\"T_bb420_level0_row7\" class=\"row_heading level0 row7\" >7</th>\n",
       "      <td id=\"T_bb420_row7_col0\" class=\"data row7 col0\" >Numeric features</td>\n",
       "      <td id=\"T_bb420_row7_col1\" class=\"data row7 col1\" >6</td>\n",
       "    </tr>\n",
       "    <tr>\n",
       "      <th id=\"T_bb420_level0_row8\" class=\"row_heading level0 row8\" >8</th>\n",
       "      <td id=\"T_bb420_row8_col0\" class=\"data row8 col0\" >Preprocess</td>\n",
       "      <td id=\"T_bb420_row8_col1\" class=\"data row8 col1\" >True</td>\n",
       "    </tr>\n",
       "    <tr>\n",
       "      <th id=\"T_bb420_level0_row9\" class=\"row_heading level0 row9\" >9</th>\n",
       "      <td id=\"T_bb420_row9_col0\" class=\"data row9 col0\" >Imputation type</td>\n",
       "      <td id=\"T_bb420_row9_col1\" class=\"data row9 col1\" >simple</td>\n",
       "    </tr>\n",
       "    <tr>\n",
       "      <th id=\"T_bb420_level0_row10\" class=\"row_heading level0 row10\" >10</th>\n",
       "      <td id=\"T_bb420_row10_col0\" class=\"data row10 col0\" >Numeric imputation</td>\n",
       "      <td id=\"T_bb420_row10_col1\" class=\"data row10 col1\" >mean</td>\n",
       "    </tr>\n",
       "    <tr>\n",
       "      <th id=\"T_bb420_level0_row11\" class=\"row_heading level0 row11\" >11</th>\n",
       "      <td id=\"T_bb420_row11_col0\" class=\"data row11 col0\" >Categorical imputation</td>\n",
       "      <td id=\"T_bb420_row11_col1\" class=\"data row11 col1\" >mode</td>\n",
       "    </tr>\n",
       "    <tr>\n",
       "      <th id=\"T_bb420_level0_row12\" class=\"row_heading level0 row12\" >12</th>\n",
       "      <td id=\"T_bb420_row12_col0\" class=\"data row12 col0\" >Fold Generator</td>\n",
       "      <td id=\"T_bb420_row12_col1\" class=\"data row12 col1\" >StratifiedKFold</td>\n",
       "    </tr>\n",
       "    <tr>\n",
       "      <th id=\"T_bb420_level0_row13\" class=\"row_heading level0 row13\" >13</th>\n",
       "      <td id=\"T_bb420_row13_col0\" class=\"data row13 col0\" >Fold Number</td>\n",
       "      <td id=\"T_bb420_row13_col1\" class=\"data row13 col1\" >10</td>\n",
       "    </tr>\n",
       "    <tr>\n",
       "      <th id=\"T_bb420_level0_row14\" class=\"row_heading level0 row14\" >14</th>\n",
       "      <td id=\"T_bb420_row14_col0\" class=\"data row14 col0\" >CPU Jobs</td>\n",
       "      <td id=\"T_bb420_row14_col1\" class=\"data row14 col1\" >-1</td>\n",
       "    </tr>\n",
       "    <tr>\n",
       "      <th id=\"T_bb420_level0_row15\" class=\"row_heading level0 row15\" >15</th>\n",
       "      <td id=\"T_bb420_row15_col0\" class=\"data row15 col0\" >Use GPU</td>\n",
       "      <td id=\"T_bb420_row15_col1\" class=\"data row15 col1\" >False</td>\n",
       "    </tr>\n",
       "    <tr>\n",
       "      <th id=\"T_bb420_level0_row16\" class=\"row_heading level0 row16\" >16</th>\n",
       "      <td id=\"T_bb420_row16_col0\" class=\"data row16 col0\" >Log Experiment</td>\n",
       "      <td id=\"T_bb420_row16_col1\" class=\"data row16 col1\" >False</td>\n",
       "    </tr>\n",
       "    <tr>\n",
       "      <th id=\"T_bb420_level0_row17\" class=\"row_heading level0 row17\" >17</th>\n",
       "      <td id=\"T_bb420_row17_col0\" class=\"data row17 col0\" >Experiment Name</td>\n",
       "      <td id=\"T_bb420_row17_col1\" class=\"data row17 col1\" >clf-default-name</td>\n",
       "    </tr>\n",
       "    <tr>\n",
       "      <th id=\"T_bb420_level0_row18\" class=\"row_heading level0 row18\" >18</th>\n",
       "      <td id=\"T_bb420_row18_col0\" class=\"data row18 col0\" >USI</td>\n",
       "      <td id=\"T_bb420_row18_col1\" class=\"data row18 col1\" >12e1</td>\n",
       "    </tr>\n",
       "  </tbody>\n",
       "</table>\n"
      ],
      "text/plain": [
       "\u001b[1m<\u001b[0m\u001b[1;95mpandas.io.formats.style.Styler\u001b[0m\u001b[39m object at \u001b[0m\u001b[1;36m0x0000029F4F4AB6D0\u001b[0m\u001b[1m>\u001b[0m"
      ]
     },
     "metadata": {},
     "output_type": "display_data"
    },
    {
     "data": {
      "text/html": [
       "<pre style=\"white-space:pre;overflow-x:auto;line-height:normal;font-family:Menlo,'DejaVu Sans Mono',consolas,'Courier New',monospace\"></pre>\n"
      ],
      "text/plain": []
     },
     "metadata": {},
     "output_type": "display_data"
    },
    {
     "data": {
      "text/html": [
       "<pre style=\"white-space:pre;overflow-x:auto;line-height:normal;font-family:Menlo,'DejaVu Sans Mono',consolas,'Courier New',monospace\"></pre>\n"
      ],
      "text/plain": []
     },
     "metadata": {},
     "output_type": "display_data"
    },
    {
     "data": {
      "text/html": [],
      "text/plain": [
       "\u001b[1m<\u001b[0m\u001b[1;95mIPython.core.display.HTML\u001b[0m\u001b[39m object\u001b[0m\u001b[1m>\u001b[0m"
      ]
     },
     "metadata": {},
     "output_type": "display_data"
    },
    {
     "data": {
      "text/html": [
       "<pre style=\"white-space:pre;overflow-x:auto;line-height:normal;font-family:Menlo,'DejaVu Sans Mono',consolas,'Courier New',monospace\"></pre>\n"
      ],
      "text/plain": []
     },
     "metadata": {},
     "output_type": "display_data"
    },
    {
     "data": {
      "text/html": [
       "<style type=\"text/css\">\n",
       "#T_4f674_row10_col0, #T_4f674_row10_col1, #T_4f674_row10_col2, #T_4f674_row10_col3, #T_4f674_row10_col4, #T_4f674_row10_col5, #T_4f674_row10_col6 {\n",
       "  background: yellow;\n",
       "}\n",
       "</style>\n",
       "<table id=\"T_4f674\">\n",
       "  <thead>\n",
       "    <tr>\n",
       "      <th class=\"blank level0\" >&nbsp;</th>\n",
       "      <th id=\"T_4f674_level0_col0\" class=\"col_heading level0 col0\" >Accuracy</th>\n",
       "      <th id=\"T_4f674_level0_col1\" class=\"col_heading level0 col1\" >AUC</th>\n",
       "      <th id=\"T_4f674_level0_col2\" class=\"col_heading level0 col2\" >Recall</th>\n",
       "      <th id=\"T_4f674_level0_col3\" class=\"col_heading level0 col3\" >Prec.</th>\n",
       "      <th id=\"T_4f674_level0_col4\" class=\"col_heading level0 col4\" >F1</th>\n",
       "      <th id=\"T_4f674_level0_col5\" class=\"col_heading level0 col5\" >Kappa</th>\n",
       "      <th id=\"T_4f674_level0_col6\" class=\"col_heading level0 col6\" >MCC</th>\n",
       "    </tr>\n",
       "    <tr>\n",
       "      <th class=\"index_name level0\" >Fold</th>\n",
       "      <th class=\"blank col0\" >&nbsp;</th>\n",
       "      <th class=\"blank col1\" >&nbsp;</th>\n",
       "      <th class=\"blank col2\" >&nbsp;</th>\n",
       "      <th class=\"blank col3\" >&nbsp;</th>\n",
       "      <th class=\"blank col4\" >&nbsp;</th>\n",
       "      <th class=\"blank col5\" >&nbsp;</th>\n",
       "      <th class=\"blank col6\" >&nbsp;</th>\n",
       "    </tr>\n",
       "  </thead>\n",
       "  <tbody>\n",
       "    <tr>\n",
       "      <th id=\"T_4f674_level0_row0\" class=\"row_heading level0 row0\" >0</th>\n",
       "      <td id=\"T_4f674_row0_col0\" class=\"data row0 col0\" >0.5767</td>\n",
       "      <td id=\"T_4f674_row0_col1\" class=\"data row0 col1\" >0.6046</td>\n",
       "      <td id=\"T_4f674_row0_col2\" class=\"data row0 col2\" >0.5052</td>\n",
       "      <td id=\"T_4f674_row0_col3\" class=\"data row0 col3\" >0.5626</td>\n",
       "      <td id=\"T_4f674_row0_col4\" class=\"data row0 col4\" >0.5323</td>\n",
       "      <td id=\"T_4f674_row0_col5\" class=\"data row0 col5\" >0.1478</td>\n",
       "      <td id=\"T_4f674_row0_col6\" class=\"data row0 col6\" >0.1485</td>\n",
       "    </tr>\n",
       "    <tr>\n",
       "      <th id=\"T_4f674_level0_row1\" class=\"row_heading level0 row1\" >1</th>\n",
       "      <td id=\"T_4f674_row1_col0\" class=\"data row1 col0\" >0.5613</td>\n",
       "      <td id=\"T_4f674_row1_col1\" class=\"data row1 col1\" >0.5851</td>\n",
       "      <td id=\"T_4f674_row1_col2\" class=\"data row1 col2\" >0.4703</td>\n",
       "      <td id=\"T_4f674_row1_col3\" class=\"data row1 col3\" >0.5465</td>\n",
       "      <td id=\"T_4f674_row1_col4\" class=\"data row1 col4\" >0.5056</td>\n",
       "      <td id=\"T_4f674_row1_col5\" class=\"data row1 col5\" >0.1153</td>\n",
       "      <td id=\"T_4f674_row1_col6\" class=\"data row1 col6\" >0.1163</td>\n",
       "    </tr>\n",
       "    <tr>\n",
       "      <th id=\"T_4f674_level0_row2\" class=\"row_heading level0 row2\" >2</th>\n",
       "      <td id=\"T_4f674_row2_col0\" class=\"data row2 col0\" >0.5496</td>\n",
       "      <td id=\"T_4f674_row2_col1\" class=\"data row2 col1\" >0.5631</td>\n",
       "      <td id=\"T_4f674_row2_col2\" class=\"data row2 col2\" >0.4374</td>\n",
       "      <td id=\"T_4f674_row2_col3\" class=\"data row2 col3\" >0.5347</td>\n",
       "      <td id=\"T_4f674_row2_col4\" class=\"data row2 col4\" >0.4812</td>\n",
       "      <td id=\"T_4f674_row2_col5\" class=\"data row2 col5\" >0.0902</td>\n",
       "      <td id=\"T_4f674_row2_col6\" class=\"data row2 col6\" >0.0917</td>\n",
       "    </tr>\n",
       "    <tr>\n",
       "      <th id=\"T_4f674_level0_row3\" class=\"row_heading level0 row3\" >3</th>\n",
       "      <td id=\"T_4f674_row3_col0\" class=\"data row3 col0\" >0.5779</td>\n",
       "      <td id=\"T_4f674_row3_col1\" class=\"data row3 col1\" >0.5887</td>\n",
       "      <td id=\"T_4f674_row3_col2\" class=\"data row3 col2\" >0.4748</td>\n",
       "      <td id=\"T_4f674_row3_col3\" class=\"data row3 col3\" >0.5697</td>\n",
       "      <td id=\"T_4f674_row3_col4\" class=\"data row3 col4\" >0.5179</td>\n",
       "      <td id=\"T_4f674_row3_col5\" class=\"data row3 col5\" >0.1481</td>\n",
       "      <td id=\"T_4f674_row3_col6\" class=\"data row3 col6\" >0.1500</td>\n",
       "    </tr>\n",
       "    <tr>\n",
       "      <th id=\"T_4f674_level0_row4\" class=\"row_heading level0 row4\" >4</th>\n",
       "      <td id=\"T_4f674_row4_col0\" class=\"data row4 col0\" >0.5872</td>\n",
       "      <td id=\"T_4f674_row4_col1\" class=\"data row4 col1\" >0.6023</td>\n",
       "      <td id=\"T_4f674_row4_col2\" class=\"data row4 col2\" >0.4942</td>\n",
       "      <td id=\"T_4f674_row4_col3\" class=\"data row4 col3\" >0.5794</td>\n",
       "      <td id=\"T_4f674_row4_col4\" class=\"data row4 col4\" >0.5334</td>\n",
       "      <td id=\"T_4f674_row4_col5\" class=\"data row4 col5\" >0.1674</td>\n",
       "      <td id=\"T_4f674_row4_col6\" class=\"data row4 col6\" >0.1691</td>\n",
       "    </tr>\n",
       "    <tr>\n",
       "      <th id=\"T_4f674_level0_row5\" class=\"row_heading level0 row5\" >5</th>\n",
       "      <td id=\"T_4f674_row5_col0\" class=\"data row5 col0\" >0.5576</td>\n",
       "      <td id=\"T_4f674_row5_col1\" class=\"data row5 col1\" >0.5891</td>\n",
       "      <td id=\"T_4f674_row5_col2\" class=\"data row5 col2\" >0.4658</td>\n",
       "      <td id=\"T_4f674_row5_col3\" class=\"data row5 col3\" >0.5429</td>\n",
       "      <td id=\"T_4f674_row5_col4\" class=\"data row5 col4\" >0.5014</td>\n",
       "      <td id=\"T_4f674_row5_col5\" class=\"data row5 col5\" >0.1080</td>\n",
       "      <td id=\"T_4f674_row5_col6\" class=\"data row5 col6\" >0.1090</td>\n",
       "    </tr>\n",
       "    <tr>\n",
       "      <th id=\"T_4f674_level0_row6\" class=\"row_heading level0 row6\" >6</th>\n",
       "      <td id=\"T_4f674_row6_col0\" class=\"data row6 col0\" >0.5847</td>\n",
       "      <td id=\"T_4f674_row6_col1\" class=\"data row6 col1\" >0.5999</td>\n",
       "      <td id=\"T_4f674_row6_col2\" class=\"data row6 col2\" >0.5071</td>\n",
       "      <td id=\"T_4f674_row6_col3\" class=\"data row6 col3\" >0.5737</td>\n",
       "      <td id=\"T_4f674_row6_col4\" class=\"data row6 col4\" >0.5384</td>\n",
       "      <td id=\"T_4f674_row6_col5\" class=\"data row6 col5\" >0.1636</td>\n",
       "      <td id=\"T_4f674_row6_col6\" class=\"data row6 col6\" >0.1646</td>\n",
       "    </tr>\n",
       "    <tr>\n",
       "      <th id=\"T_4f674_level0_row7\" class=\"row_heading level0 row7\" >7</th>\n",
       "      <td id=\"T_4f674_row7_col0\" class=\"data row7 col0\" >0.5638</td>\n",
       "      <td id=\"T_4f674_row7_col1\" class=\"data row7 col1\" >0.5934</td>\n",
       "      <td id=\"T_4f674_row7_col2\" class=\"data row7 col2\" >0.4852</td>\n",
       "      <td id=\"T_4f674_row7_col3\" class=\"data row7 col3\" >0.5489</td>\n",
       "      <td id=\"T_4f674_row7_col4\" class=\"data row7 col4\" >0.5151</td>\n",
       "      <td id=\"T_4f674_row7_col5\" class=\"data row7 col5\" >0.1214</td>\n",
       "      <td id=\"T_4f674_row7_col6\" class=\"data row7 col6\" >0.1221</td>\n",
       "    </tr>\n",
       "    <tr>\n",
       "      <th id=\"T_4f674_level0_row8\" class=\"row_heading level0 row8\" >8</th>\n",
       "      <td id=\"T_4f674_row8_col0\" class=\"data row8 col0\" >0.6048</td>\n",
       "      <td id=\"T_4f674_row8_col1\" class=\"data row8 col1\" >0.6289</td>\n",
       "      <td id=\"T_4f674_row8_col2\" class=\"data row8 col2\" >0.4884</td>\n",
       "      <td id=\"T_4f674_row8_col3\" class=\"data row8 col3\" >0.6067</td>\n",
       "      <td id=\"T_4f674_row8_col4\" class=\"data row8 col4\" >0.5412</td>\n",
       "      <td id=\"T_4f674_row8_col5\" class=\"data row8 col5\" >0.2012</td>\n",
       "      <td id=\"T_4f674_row8_col6\" class=\"data row8 col6\" >0.2048</td>\n",
       "    </tr>\n",
       "    <tr>\n",
       "      <th id=\"T_4f674_level0_row9\" class=\"row_heading level0 row9\" >9</th>\n",
       "      <td id=\"T_4f674_row9_col0\" class=\"data row9 col0\" >0.5912</td>\n",
       "      <td id=\"T_4f674_row9_col1\" class=\"data row9 col1\" >0.6106</td>\n",
       "      <td id=\"T_4f674_row9_col2\" class=\"data row9 col2\" >0.4974</td>\n",
       "      <td id=\"T_4f674_row9_col3\" class=\"data row9 col3\" >0.5842</td>\n",
       "      <td id=\"T_4f674_row9_col4\" class=\"data row9 col4\" >0.5373</td>\n",
       "      <td id=\"T_4f674_row9_col5\" class=\"data row9 col5\" >0.1754</td>\n",
       "      <td id=\"T_4f674_row9_col6\" class=\"data row9 col6\" >0.1773</td>\n",
       "    </tr>\n",
       "    <tr>\n",
       "      <th id=\"T_4f674_level0_row10\" class=\"row_heading level0 row10\" >Mean</th>\n",
       "      <td id=\"T_4f674_row10_col0\" class=\"data row10 col0\" >0.5755</td>\n",
       "      <td id=\"T_4f674_row10_col1\" class=\"data row10 col1\" >0.5966</td>\n",
       "      <td id=\"T_4f674_row10_col2\" class=\"data row10 col2\" >0.4826</td>\n",
       "      <td id=\"T_4f674_row10_col3\" class=\"data row10 col3\" >0.5649</td>\n",
       "      <td id=\"T_4f674_row10_col4\" class=\"data row10 col4\" >0.5204</td>\n",
       "      <td id=\"T_4f674_row10_col5\" class=\"data row10 col5\" >0.1438</td>\n",
       "      <td id=\"T_4f674_row10_col6\" class=\"data row10 col6\" >0.1453</td>\n",
       "    </tr>\n",
       "    <tr>\n",
       "      <th id=\"T_4f674_level0_row11\" class=\"row_heading level0 row11\" >Std</th>\n",
       "      <td id=\"T_4f674_row11_col0\" class=\"data row11 col0\" >0.0163</td>\n",
       "      <td id=\"T_4f674_row11_col1\" class=\"data row11 col1\" >0.0165</td>\n",
       "      <td id=\"T_4f674_row11_col2\" class=\"data row11 col2\" >0.0201</td>\n",
       "      <td id=\"T_4f674_row11_col3\" class=\"data row11 col3\" >0.0211</td>\n",
       "      <td id=\"T_4f674_row11_col4\" class=\"data row11 col4\" >0.0187</td>\n",
       "      <td id=\"T_4f674_row11_col5\" class=\"data row11 col5\" >0.0328</td>\n",
       "      <td id=\"T_4f674_row11_col6\" class=\"data row11 col6\" >0.0333</td>\n",
       "    </tr>\n",
       "  </tbody>\n",
       "</table>\n"
      ],
      "text/plain": [
       "\u001b[1m<\u001b[0m\u001b[1;95mpandas.io.formats.style.Styler\u001b[0m\u001b[39m object at \u001b[0m\u001b[1;36m0x0000029F4F08AB10\u001b[0m\u001b[1m>\u001b[0m"
      ]
     },
     "metadata": {},
     "output_type": "display_data"
    },
    {
     "data": {
      "text/html": [],
      "text/plain": [
       "\u001b[1m<\u001b[0m\u001b[1;95mIPython.core.display.HTML\u001b[0m\u001b[39m object\u001b[0m\u001b[1m>\u001b[0m"
      ]
     },
     "metadata": {},
     "output_type": "display_data"
    },
    {
     "data": {
      "text/html": [
       "<pre style=\"white-space:pre;overflow-x:auto;line-height:normal;font-family:Menlo,'DejaVu Sans Mono',consolas,'Courier New',monospace\"></pre>\n"
      ],
      "text/plain": []
     },
     "metadata": {},
     "output_type": "display_data"
    },
    {
     "data": {
      "text/html": [
       "<pre style=\"white-space:pre;overflow-x:auto;line-height:normal;font-family:Menlo,'DejaVu Sans Mono',consolas,'Courier New',monospace\"></pre>\n"
      ],
      "text/plain": []
     },
     "metadata": {},
     "output_type": "display_data"
    },
    {
     "data": {
      "text/html": [
       "<pre style=\"white-space:pre;overflow-x:auto;line-height:normal;font-family:Menlo,'DejaVu Sans Mono',consolas,'Courier New',monospace\"></pre>\n"
      ],
      "text/plain": []
     },
     "metadata": {},
     "output_type": "display_data"
    },
    {
     "data": {
      "text/html": [
       "<pre style=\"white-space:pre;overflow-x:auto;line-height:normal;font-family:Menlo,'DejaVu Sans Mono',consolas,'Courier New',monospace\"></pre>\n"
      ],
      "text/plain": []
     },
     "metadata": {},
     "output_type": "display_data"
    },
    {
     "data": {
      "text/html": [
       "<pre style=\"white-space:pre;overflow-x:auto;line-height:normal;font-family:Menlo,'DejaVu Sans Mono',consolas,'Courier New',monospace\"></pre>\n"
      ],
      "text/plain": []
     },
     "metadata": {},
     "output_type": "display_data"
    },
    {
     "data": {
      "text/html": [
       "<pre style=\"white-space:pre;overflow-x:auto;line-height:normal;font-family:Menlo,'DejaVu Sans Mono',consolas,'Courier New',monospace\"></pre>\n"
      ],
      "text/plain": []
     },
     "metadata": {},
     "output_type": "display_data"
    },
    {
     "data": {
      "text/html": [
       "<pre style=\"white-space:pre;overflow-x:auto;line-height:normal;font-family:Menlo,'DejaVu Sans Mono',consolas,'Courier New',monospace\"></pre>\n"
      ],
      "text/plain": []
     },
     "metadata": {},
     "output_type": "display_data"
    },
    {
     "data": {
      "text/html": [
       "<pre style=\"white-space:pre;overflow-x:auto;line-height:normal;font-family:Menlo,'DejaVu Sans Mono',consolas,'Courier New',monospace\"></pre>\n"
      ],
      "text/plain": []
     },
     "metadata": {},
     "output_type": "display_data"
    },
    {
     "data": {
      "text/html": [
       "<pre style=\"white-space:pre;overflow-x:auto;line-height:normal;font-family:Menlo,'DejaVu Sans Mono',consolas,'Courier New',monospace\"></pre>\n"
      ],
      "text/plain": []
     },
     "metadata": {},
     "output_type": "display_data"
    },
    {
     "data": {
      "text/html": [
       "<pre style=\"white-space:pre;overflow-x:auto;line-height:normal;font-family:Menlo,'DejaVu Sans Mono',consolas,'Courier New',monospace\"></pre>\n"
      ],
      "text/plain": []
     },
     "metadata": {},
     "output_type": "display_data"
    },
    {
     "data": {
      "text/html": [
       "<pre style=\"white-space:pre;overflow-x:auto;line-height:normal;font-family:Menlo,'DejaVu Sans Mono',consolas,'Courier New',monospace\"></pre>\n"
      ],
      "text/plain": []
     },
     "metadata": {},
     "output_type": "display_data"
    },
    {
     "data": {
      "text/html": [],
      "text/plain": [
       "\u001b[1m<\u001b[0m\u001b[1;95mIPython.core.display.HTML\u001b[0m\u001b[39m object\u001b[0m\u001b[1m>\u001b[0m"
      ]
     },
     "metadata": {},
     "output_type": "display_data"
    },
    {
     "data": {
      "text/html": [
       "<pre style=\"white-space:pre;overflow-x:auto;line-height:normal;font-family:Menlo,'DejaVu Sans Mono',consolas,'Courier New',monospace\"></pre>\n"
      ],
      "text/plain": []
     },
     "metadata": {},
     "output_type": "display_data"
    },
    {
     "data": {
      "text/html": [
       "<style type=\"text/css\">\n",
       "#T_66a1c_row10_col0, #T_66a1c_row10_col1, #T_66a1c_row10_col2, #T_66a1c_row10_col3, #T_66a1c_row10_col4, #T_66a1c_row10_col5, #T_66a1c_row10_col6 {\n",
       "  background: yellow;\n",
       "}\n",
       "</style>\n",
       "<table id=\"T_66a1c\">\n",
       "  <thead>\n",
       "    <tr>\n",
       "      <th class=\"blank level0\" >&nbsp;</th>\n",
       "      <th id=\"T_66a1c_level0_col0\" class=\"col_heading level0 col0\" >Accuracy</th>\n",
       "      <th id=\"T_66a1c_level0_col1\" class=\"col_heading level0 col1\" >AUC</th>\n",
       "      <th id=\"T_66a1c_level0_col2\" class=\"col_heading level0 col2\" >Recall</th>\n",
       "      <th id=\"T_66a1c_level0_col3\" class=\"col_heading level0 col3\" >Prec.</th>\n",
       "      <th id=\"T_66a1c_level0_col4\" class=\"col_heading level0 col4\" >F1</th>\n",
       "      <th id=\"T_66a1c_level0_col5\" class=\"col_heading level0 col5\" >Kappa</th>\n",
       "      <th id=\"T_66a1c_level0_col6\" class=\"col_heading level0 col6\" >MCC</th>\n",
       "    </tr>\n",
       "    <tr>\n",
       "      <th class=\"index_name level0\" >Fold</th>\n",
       "      <th class=\"blank col0\" >&nbsp;</th>\n",
       "      <th class=\"blank col1\" >&nbsp;</th>\n",
       "      <th class=\"blank col2\" >&nbsp;</th>\n",
       "      <th class=\"blank col3\" >&nbsp;</th>\n",
       "      <th class=\"blank col4\" >&nbsp;</th>\n",
       "      <th class=\"blank col5\" >&nbsp;</th>\n",
       "      <th class=\"blank col6\" >&nbsp;</th>\n",
       "    </tr>\n",
       "  </thead>\n",
       "  <tbody>\n",
       "    <tr>\n",
       "      <th id=\"T_66a1c_level0_row0\" class=\"row_heading level0 row0\" >0</th>\n",
       "      <td id=\"T_66a1c_row0_col0\" class=\"data row0 col0\" >0.5773</td>\n",
       "      <td id=\"T_66a1c_row0_col1\" class=\"data row0 col1\" >0.6050</td>\n",
       "      <td id=\"T_66a1c_row0_col2\" class=\"data row0 col2\" >0.5065</td>\n",
       "      <td id=\"T_66a1c_row0_col3\" class=\"data row0 col3\" >0.5632</td>\n",
       "      <td id=\"T_66a1c_row0_col4\" class=\"data row0 col4\" >0.5333</td>\n",
       "      <td id=\"T_66a1c_row0_col5\" class=\"data row0 col5\" >0.1491</td>\n",
       "      <td id=\"T_66a1c_row0_col6\" class=\"data row0 col6\" >0.1498</td>\n",
       "    </tr>\n",
       "    <tr>\n",
       "      <th id=\"T_66a1c_level0_row1\" class=\"row_heading level0 row1\" >1</th>\n",
       "      <td id=\"T_66a1c_row1_col0\" class=\"data row1 col0\" >0.5625</td>\n",
       "      <td id=\"T_66a1c_row1_col1\" class=\"data row1 col1\" >0.5850</td>\n",
       "      <td id=\"T_66a1c_row1_col2\" class=\"data row1 col2\" >0.4716</td>\n",
       "      <td id=\"T_66a1c_row1_col3\" class=\"data row1 col3\" >0.5480</td>\n",
       "      <td id=\"T_66a1c_row1_col4\" class=\"data row1 col4\" >0.5069</td>\n",
       "      <td id=\"T_66a1c_row1_col5\" class=\"data row1 col5\" >0.1178</td>\n",
       "      <td id=\"T_66a1c_row1_col6\" class=\"data row1 col6\" >0.1188</td>\n",
       "    </tr>\n",
       "    <tr>\n",
       "      <th id=\"T_66a1c_level0_row2\" class=\"row_heading level0 row2\" >2</th>\n",
       "      <td id=\"T_66a1c_row2_col0\" class=\"data row2 col0\" >0.5496</td>\n",
       "      <td id=\"T_66a1c_row2_col1\" class=\"data row2 col1\" >0.5634</td>\n",
       "      <td id=\"T_66a1c_row2_col2\" class=\"data row2 col2\" >0.4387</td>\n",
       "      <td id=\"T_66a1c_row2_col3\" class=\"data row2 col3\" >0.5346</td>\n",
       "      <td id=\"T_66a1c_row2_col4\" class=\"data row2 col4\" >0.4819</td>\n",
       "      <td id=\"T_66a1c_row2_col5\" class=\"data row2 col5\" >0.0904</td>\n",
       "      <td id=\"T_66a1c_row2_col6\" class=\"data row2 col6\" >0.0917</td>\n",
       "    </tr>\n",
       "    <tr>\n",
       "      <th id=\"T_66a1c_level0_row3\" class=\"row_heading level0 row3\" >3</th>\n",
       "      <td id=\"T_66a1c_row3_col0\" class=\"data row3 col0\" >0.5792</td>\n",
       "      <td id=\"T_66a1c_row3_col1\" class=\"data row3 col1\" >0.5888</td>\n",
       "      <td id=\"T_66a1c_row3_col2\" class=\"data row3 col2\" >0.4761</td>\n",
       "      <td id=\"T_66a1c_row3_col3\" class=\"data row3 col3\" >0.5712</td>\n",
       "      <td id=\"T_66a1c_row3_col4\" class=\"data row3 col4\" >0.5194</td>\n",
       "      <td id=\"T_66a1c_row3_col5\" class=\"data row3 col5\" >0.1506</td>\n",
       "      <td id=\"T_66a1c_row3_col6\" class=\"data row3 col6\" >0.1525</td>\n",
       "    </tr>\n",
       "    <tr>\n",
       "      <th id=\"T_66a1c_level0_row4\" class=\"row_heading level0 row4\" >4</th>\n",
       "      <td id=\"T_66a1c_row4_col0\" class=\"data row4 col0\" >0.5890</td>\n",
       "      <td id=\"T_66a1c_row4_col1\" class=\"data row4 col1\" >0.6023</td>\n",
       "      <td id=\"T_66a1c_row4_col2\" class=\"data row4 col2\" >0.4968</td>\n",
       "      <td id=\"T_66a1c_row4_col3\" class=\"data row4 col3\" >0.5816</td>\n",
       "      <td id=\"T_66a1c_row4_col4\" class=\"data row4 col4\" >0.5358</td>\n",
       "      <td id=\"T_66a1c_row4_col5\" class=\"data row4 col5\" >0.1712</td>\n",
       "      <td id=\"T_66a1c_row4_col6\" class=\"data row4 col6\" >0.1729</td>\n",
       "    </tr>\n",
       "    <tr>\n",
       "      <th id=\"T_66a1c_level0_row5\" class=\"row_heading level0 row5\" >5</th>\n",
       "      <td id=\"T_66a1c_row5_col0\" class=\"data row5 col0\" >0.5576</td>\n",
       "      <td id=\"T_66a1c_row5_col1\" class=\"data row5 col1\" >0.5891</td>\n",
       "      <td id=\"T_66a1c_row5_col2\" class=\"data row5 col2\" >0.4658</td>\n",
       "      <td id=\"T_66a1c_row5_col3\" class=\"data row5 col3\" >0.5429</td>\n",
       "      <td id=\"T_66a1c_row5_col4\" class=\"data row5 col4\" >0.5014</td>\n",
       "      <td id=\"T_66a1c_row5_col5\" class=\"data row5 col5\" >0.1080</td>\n",
       "      <td id=\"T_66a1c_row5_col6\" class=\"data row5 col6\" >0.1090</td>\n",
       "    </tr>\n",
       "    <tr>\n",
       "      <th id=\"T_66a1c_level0_row6\" class=\"row_heading level0 row6\" >6</th>\n",
       "      <td id=\"T_66a1c_row6_col0\" class=\"data row6 col0\" >0.5841</td>\n",
       "      <td id=\"T_66a1c_row6_col1\" class=\"data row6 col1\" >0.5999</td>\n",
       "      <td id=\"T_66a1c_row6_col2\" class=\"data row6 col2\" >0.5071</td>\n",
       "      <td id=\"T_66a1c_row6_col3\" class=\"data row6 col3\" >0.5729</td>\n",
       "      <td id=\"T_66a1c_row6_col4\" class=\"data row6 col4\" >0.5380</td>\n",
       "      <td id=\"T_66a1c_row6_col5\" class=\"data row6 col5\" >0.1624</td>\n",
       "      <td id=\"T_66a1c_row6_col6\" class=\"data row6 col6\" >0.1634</td>\n",
       "    </tr>\n",
       "    <tr>\n",
       "      <th id=\"T_66a1c_level0_row7\" class=\"row_heading level0 row7\" >7</th>\n",
       "      <td id=\"T_66a1c_row7_col0\" class=\"data row7 col0\" >0.5638</td>\n",
       "      <td id=\"T_66a1c_row7_col1\" class=\"data row7 col1\" >0.5937</td>\n",
       "      <td id=\"T_66a1c_row7_col2\" class=\"data row7 col2\" >0.4877</td>\n",
       "      <td id=\"T_66a1c_row7_col3\" class=\"data row7 col3\" >0.5486</td>\n",
       "      <td id=\"T_66a1c_row7_col4\" class=\"data row7 col4\" >0.5164</td>\n",
       "      <td id=\"T_66a1c_row7_col5\" class=\"data row7 col5\" >0.1216</td>\n",
       "      <td id=\"T_66a1c_row7_col6\" class=\"data row7 col6\" >0.1223</td>\n",
       "    </tr>\n",
       "    <tr>\n",
       "      <th id=\"T_66a1c_level0_row8\" class=\"row_heading level0 row8\" >8</th>\n",
       "      <td id=\"T_66a1c_row8_col0\" class=\"data row8 col0\" >0.6036</td>\n",
       "      <td id=\"T_66a1c_row8_col1\" class=\"data row8 col1\" >0.6290</td>\n",
       "      <td id=\"T_66a1c_row8_col2\" class=\"data row8 col2\" >0.4884</td>\n",
       "      <td id=\"T_66a1c_row8_col3\" class=\"data row8 col3\" >0.6048</td>\n",
       "      <td id=\"T_66a1c_row8_col4\" class=\"data row8 col4\" >0.5404</td>\n",
       "      <td id=\"T_66a1c_row8_col5\" class=\"data row8 col5\" >0.1988</td>\n",
       "      <td id=\"T_66a1c_row8_col6\" class=\"data row8 col6\" >0.2023</td>\n",
       "    </tr>\n",
       "    <tr>\n",
       "      <th id=\"T_66a1c_level0_row9\" class=\"row_heading level0 row9\" >9</th>\n",
       "      <td id=\"T_66a1c_row9_col0\" class=\"data row9 col0\" >0.5919</td>\n",
       "      <td id=\"T_66a1c_row9_col1\" class=\"data row9 col1\" >0.6104</td>\n",
       "      <td id=\"T_66a1c_row9_col2\" class=\"data row9 col2\" >0.4974</td>\n",
       "      <td id=\"T_66a1c_row9_col3\" class=\"data row9 col3\" >0.5851</td>\n",
       "      <td id=\"T_66a1c_row9_col4\" class=\"data row9 col4\" >0.5377</td>\n",
       "      <td id=\"T_66a1c_row9_col5\" class=\"data row9 col5\" >0.1766</td>\n",
       "      <td id=\"T_66a1c_row9_col6\" class=\"data row9 col6\" >0.1785</td>\n",
       "    </tr>\n",
       "    <tr>\n",
       "      <th id=\"T_66a1c_level0_row10\" class=\"row_heading level0 row10\" >Mean</th>\n",
       "      <td id=\"T_66a1c_row10_col0\" class=\"data row10 col0\" >0.5759</td>\n",
       "      <td id=\"T_66a1c_row10_col1\" class=\"data row10 col1\" >0.5966</td>\n",
       "      <td id=\"T_66a1c_row10_col2\" class=\"data row10 col2\" >0.4836</td>\n",
       "      <td id=\"T_66a1c_row10_col3\" class=\"data row10 col3\" >0.5653</td>\n",
       "      <td id=\"T_66a1c_row10_col4\" class=\"data row10 col4\" >0.5211</td>\n",
       "      <td id=\"T_66a1c_row10_col5\" class=\"data row10 col5\" >0.1446</td>\n",
       "      <td id=\"T_66a1c_row10_col6\" class=\"data row10 col6\" >0.1461</td>\n",
       "    </tr>\n",
       "    <tr>\n",
       "      <th id=\"T_66a1c_level0_row11\" class=\"row_heading level0 row11\" >Std</th>\n",
       "      <td id=\"T_66a1c_row11_col0\" class=\"data row11 col0\" >0.0162</td>\n",
       "      <td id=\"T_66a1c_row11_col1\" class=\"data row11 col1\" >0.0165</td>\n",
       "      <td id=\"T_66a1c_row11_col2\" class=\"data row11 col2\" >0.0200</td>\n",
       "      <td id=\"T_66a1c_row11_col3\" class=\"data row11 col3\" >0.0208</td>\n",
       "      <td id=\"T_66a1c_row11_col4\" class=\"data row11 col4\" >0.0186</td>\n",
       "      <td id=\"T_66a1c_row11_col5\" class=\"data row11 col5\" >0.0325</td>\n",
       "      <td id=\"T_66a1c_row11_col6\" class=\"data row11 col6\" >0.0330</td>\n",
       "    </tr>\n",
       "  </tbody>\n",
       "</table>\n"
      ],
      "text/plain": [
       "\u001b[1m<\u001b[0m\u001b[1;95mpandas.io.formats.style.Styler\u001b[0m\u001b[39m object at \u001b[0m\u001b[1;36m0x0000029F4909D1D0\u001b[0m\u001b[1m>\u001b[0m"
      ]
     },
     "metadata": {},
     "output_type": "display_data"
    },
    {
     "data": {
      "text/html": [],
      "text/plain": [
       "\u001b[1m<\u001b[0m\u001b[1;95mIPython.core.display.HTML\u001b[0m\u001b[39m object\u001b[0m\u001b[1m>\u001b[0m"
      ]
     },
     "metadata": {},
     "output_type": "display_data"
    },
    {
     "data": {
      "text/html": [
       "<pre style=\"white-space:pre;overflow-x:auto;line-height:normal;font-family:Menlo,'DejaVu Sans Mono',consolas,'Courier New',monospace\"></pre>\n"
      ],
      "text/plain": []
     },
     "metadata": {},
     "output_type": "display_data"
    },
    {
     "data": {
      "text/html": [
       "<pre style=\"white-space:pre;overflow-x:auto;line-height:normal;font-family:Menlo,'DejaVu Sans Mono',consolas,'Courier New',monospace\"></pre>\n"
      ],
      "text/plain": []
     },
     "metadata": {},
     "output_type": "display_data"
    },
    {
     "name": "stdout",
     "output_type": "stream",
     "text": [
      "Fitting 10 folds for each of 10 candidates, totalling 100 fits\n"
     ]
    },
    {
     "data": {
      "text/html": [
       "<pre style=\"white-space:pre;overflow-x:auto;line-height:normal;font-family:Menlo,'DejaVu Sans Mono',consolas,'Courier New',monospace\"></pre>\n"
      ],
      "text/plain": []
     },
     "metadata": {},
     "output_type": "display_data"
    },
    {
     "data": {
      "text/html": [
       "<pre style=\"white-space:pre;overflow-x:auto;line-height:normal;font-family:Menlo,'DejaVu Sans Mono',consolas,'Courier New',monospace\"></pre>\n"
      ],
      "text/plain": []
     },
     "metadata": {},
     "output_type": "display_data"
    },
    {
     "data": {
      "text/html": [
       "<pre style=\"white-space:pre;overflow-x:auto;line-height:normal;font-family:Menlo,'DejaVu Sans Mono',consolas,'Courier New',monospace\"></pre>\n"
      ],
      "text/plain": []
     },
     "metadata": {},
     "output_type": "display_data"
    },
    {
     "data": {
      "text/html": [
       "<pre style=\"white-space:pre;overflow-x:auto;line-height:normal;font-family:Menlo,'DejaVu Sans Mono',consolas,'Courier New',monospace\"></pre>\n"
      ],
      "text/plain": []
     },
     "metadata": {},
     "output_type": "display_data"
    },
    {
     "data": {
      "text/html": [
       "<pre style=\"white-space:pre;overflow-x:auto;line-height:normal;font-family:Menlo,'DejaVu Sans Mono',consolas,'Courier New',monospace\"></pre>\n"
      ],
      "text/plain": []
     },
     "metadata": {},
     "output_type": "display_data"
    },
    {
     "data": {
      "text/html": [
       "<pre style=\"white-space:pre;overflow-x:auto;line-height:normal;font-family:Menlo,'DejaVu Sans Mono',consolas,'Courier New',monospace\"></pre>\n"
      ],
      "text/plain": []
     },
     "metadata": {},
     "output_type": "display_data"
    },
    {
     "data": {
      "text/html": [
       "<pre style=\"white-space:pre;overflow-x:auto;line-height:normal;font-family:Menlo,'DejaVu Sans Mono',consolas,'Courier New',monospace\"></pre>\n"
      ],
      "text/plain": []
     },
     "metadata": {},
     "output_type": "display_data"
    },
    {
     "data": {
      "text/html": [
       "<pre style=\"white-space:pre;overflow-x:auto;line-height:normal;font-family:Menlo,'DejaVu Sans Mono',consolas,'Courier New',monospace\"></pre>\n"
      ],
      "text/plain": []
     },
     "metadata": {},
     "output_type": "display_data"
    },
    {
     "data": {
      "text/html": [
       "<pre style=\"white-space:pre;overflow-x:auto;line-height:normal;font-family:Menlo,'DejaVu Sans Mono',consolas,'Courier New',monospace\"></pre>\n"
      ],
      "text/plain": []
     },
     "metadata": {},
     "output_type": "display_data"
    },
    {
     "data": {
      "text/html": [
       "<pre style=\"white-space:pre;overflow-x:auto;line-height:normal;font-family:Menlo,'DejaVu Sans Mono',consolas,'Courier New',monospace\"></pre>\n"
      ],
      "text/plain": []
     },
     "metadata": {},
     "output_type": "display_data"
    },
    {
     "data": {
      "text/html": [
       "<pre style=\"white-space:pre;overflow-x:auto;line-height:normal;font-family:Menlo,'DejaVu Sans Mono',consolas,'Courier New',monospace\"></pre>\n"
      ],
      "text/plain": []
     },
     "metadata": {},
     "output_type": "display_data"
    },
    {
     "data": {
      "text/html": [
       "<pre style=\"white-space:pre;overflow-x:auto;line-height:normal;font-family:Menlo,'DejaVu Sans Mono',consolas,'Courier New',monospace\"><span style=\"color: #800000; text-decoration-color: #800000\">╭─────────────────────────────── </span><span style=\"color: #800000; text-decoration-color: #800000; font-weight: bold\">Traceback </span><span style=\"color: #bf7f7f; text-decoration-color: #bf7f7f; font-weight: bold\">(most recent call last)</span><span style=\"color: #800000; text-decoration-color: #800000\"> ────────────────────────────────╮</span>\n",
       "<span style=\"color: #800000; text-decoration-color: #800000\">│</span> in <span style=\"color: #00ff00; text-decoration-color: #00ff00\">&lt;module&gt;</span>:<span style=\"color: #0000ff; text-decoration-color: #0000ff\">5</span>                                                                                    <span style=\"color: #800000; text-decoration-color: #800000\">│</span>\n",
       "<span style=\"color: #800000; text-decoration-color: #800000\">│</span>                                                                                                  <span style=\"color: #800000; text-decoration-color: #800000\">│</span>\n",
       "<span style=\"color: #800000; text-decoration-color: #800000\">│</span>   <span style=\"color: #7f7f7f; text-decoration-color: #7f7f7f\">2 </span>setup(data=base_train, target=<span style=\"color: #808000; text-decoration-color: #808000\">'shot_made_flag'</span>, test_data=base_test, session_id=<span style=\"color: #0000ff; text-decoration-color: #0000ff\">1146</span>)        <span style=\"color: #800000; text-decoration-color: #800000\">│</span>\n",
       "<span style=\"color: #800000; text-decoration-color: #800000\">│</span>   <span style=\"color: #7f7f7f; text-decoration-color: #7f7f7f\">3 </span>lr_model = create_model(<span style=\"color: #808000; text-decoration-color: #808000\">'lr'</span>)  <span style=\"color: #7f7f7f; text-decoration-color: #7f7f7f\"># Default logistic regression model</span>                           <span style=\"color: #800000; text-decoration-color: #800000\">│</span>\n",
       "<span style=\"color: #800000; text-decoration-color: #800000\">│</span>   <span style=\"color: #7f7f7f; text-decoration-color: #7f7f7f\">4 </span>tuned_lr = tune_model(lr_model)                                                              <span style=\"color: #800000; text-decoration-color: #800000\">│</span>\n",
       "<span style=\"color: #800000; text-decoration-color: #800000\">│</span> <span style=\"color: #800000; text-decoration-color: #800000\">❱ </span>5 model_info = <span style=\"font-weight: bold; text-decoration: underline\">get_config(</span><span style=\"color: #808000; text-decoration-color: #808000; font-weight: bold; text-decoration: underline\">'tuned_lr'</span><span style=\"font-weight: bold; text-decoration: underline\">)</span>                                                          <span style=\"color: #800000; text-decoration-color: #800000\">│</span>\n",
       "<span style=\"color: #800000; text-decoration-color: #800000\">│</span>   <span style=\"color: #7f7f7f; text-decoration-color: #7f7f7f\">6 </span><span style=\"color: #00ffff; text-decoration-color: #00ffff\">print</span>(<span style=\"color: #808000; text-decoration-color: #808000\">\"Model Name:\"</span>, model_info.<span style=\"color: #ff0000; text-decoration-color: #ff0000\">__class__</span>.<span style=\"color: #ff0000; text-decoration-color: #ff0000\">__name__</span>)                                          <span style=\"color: #800000; text-decoration-color: #800000\">│</span>\n",
       "<span style=\"color: #800000; text-decoration-color: #800000\">│</span>   <span style=\"color: #7f7f7f; text-decoration-color: #7f7f7f\">7 </span>                                                                                             <span style=\"color: #800000; text-decoration-color: #800000\">│</span>\n",
       "<span style=\"color: #800000; text-decoration-color: #800000\">│</span>                                                                                                  <span style=\"color: #800000; text-decoration-color: #800000\">│</span>\n",
       "<span style=\"color: #800000; text-decoration-color: #800000\">│</span> <span style=\"color: #808000; text-decoration-color: #808000\">C:\\Users\\Kleber\\Documents\\curso_intel_artificial\\eng_machine_learning\\eng_machine_proj\\virt_eng_</span> <span style=\"color: #800000; text-decoration-color: #800000\">│</span>\n",
       "<span style=\"color: #800000; text-decoration-color: #800000\">│</span> <span style=\"color: #808000; text-decoration-color: #808000\">mac_proj\\Lib\\site-packages\\pycaret\\utils\\generic.py</span>:<span style=\"color: #0000ff; text-decoration-color: #0000ff\">964</span> in <span style=\"color: #00ff00; text-decoration-color: #00ff00\">wrapper</span>                               <span style=\"color: #800000; text-decoration-color: #800000\">│</span>\n",
       "<span style=\"color: #800000; text-decoration-color: #800000\">│</span>                                                                                                  <span style=\"color: #800000; text-decoration-color: #800000\">│</span>\n",
       "<span style=\"color: #800000; text-decoration-color: #800000\">│</span>   <span style=\"color: #7f7f7f; text-decoration-color: #7f7f7f\"> 961 </span><span style=\"color: #7f7f7f; text-decoration-color: #7f7f7f\">│   │   │   </span><span style=\"color: #0000ff; text-decoration-color: #0000ff\">for</span> name, message <span style=\"color: #ff00ff; text-decoration-color: #ff00ff\">in</span> global_names.items():                                    <span style=\"color: #800000; text-decoration-color: #800000\">│</span>\n",
       "<span style=\"color: #800000; text-decoration-color: #800000\">│</span>   <span style=\"color: #7f7f7f; text-decoration-color: #7f7f7f\"> 962 </span><span style=\"color: #7f7f7f; text-decoration-color: #7f7f7f\">│   │   │   │   </span><span style=\"color: #0000ff; text-decoration-color: #0000ff\">if</span> globals_d[name] <span style=\"color: #ff00ff; text-decoration-color: #ff00ff\">is</span> <span style=\"color: #0000ff; text-decoration-color: #0000ff\">None</span>:                                               <span style=\"color: #800000; text-decoration-color: #800000\">│</span>\n",
       "<span style=\"color: #800000; text-decoration-color: #800000\">│</span>   <span style=\"color: #7f7f7f; text-decoration-color: #7f7f7f\"> 963 </span><span style=\"color: #7f7f7f; text-decoration-color: #7f7f7f\">│   │   │   │   │   </span><span style=\"color: #0000ff; text-decoration-color: #0000ff\">raise</span> <span style=\"color: #00ffff; text-decoration-color: #00ffff\">ValueError</span>(message)                                             <span style=\"color: #800000; text-decoration-color: #800000\">│</span>\n",
       "<span style=\"color: #800000; text-decoration-color: #800000\">│</span> <span style=\"color: #800000; text-decoration-color: #800000\">❱ </span> 964 <span style=\"color: #7f7f7f; text-decoration-color: #7f7f7f\">│   │   │   </span><span style=\"color: #0000ff; text-decoration-color: #0000ff\">return</span> <span style=\"font-weight: bold; text-decoration: underline\">func(*args, **kwargs)</span>                                                  <span style=\"color: #800000; text-decoration-color: #800000\">│</span>\n",
       "<span style=\"color: #800000; text-decoration-color: #800000\">│</span>   <span style=\"color: #7f7f7f; text-decoration-color: #7f7f7f\"> 965 </span><span style=\"color: #7f7f7f; text-decoration-color: #7f7f7f\">│   │   </span>                                                                                  <span style=\"color: #800000; text-decoration-color: #800000\">│</span>\n",
       "<span style=\"color: #800000; text-decoration-color: #800000\">│</span>   <span style=\"color: #7f7f7f; text-decoration-color: #7f7f7f\"> 966 </span><span style=\"color: #7f7f7f; text-decoration-color: #7f7f7f\">│   │   </span><span style=\"color: #0000ff; text-decoration-color: #0000ff\">return</span> wrapper                                                                    <span style=\"color: #800000; text-decoration-color: #800000\">│</span>\n",
       "<span style=\"color: #800000; text-decoration-color: #800000\">│</span>   <span style=\"color: #7f7f7f; text-decoration-color: #7f7f7f\"> 967 </span>                                                                                          <span style=\"color: #800000; text-decoration-color: #800000\">│</span>\n",
       "<span style=\"color: #800000; text-decoration-color: #800000\">│</span>                                                                                                  <span style=\"color: #800000; text-decoration-color: #800000\">│</span>\n",
       "<span style=\"color: #800000; text-decoration-color: #800000\">│</span> <span style=\"color: #808000; text-decoration-color: #808000\">C:\\Users\\Kleber\\Documents\\curso_intel_artificial\\eng_machine_learning\\eng_machine_proj\\virt_eng_</span> <span style=\"color: #800000; text-decoration-color: #800000\">│</span>\n",
       "<span style=\"color: #800000; text-decoration-color: #800000\">│</span> <span style=\"color: #808000; text-decoration-color: #808000\">mac_proj\\Lib\\site-packages\\pycaret\\classification\\functional.py</span>:<span style=\"color: #0000ff; text-decoration-color: #0000ff\">2771</span> in <span style=\"color: #00ff00; text-decoration-color: #00ff00\">get_config</span>               <span style=\"color: #800000; text-decoration-color: #800000\">│</span>\n",
       "<span style=\"color: #800000; text-decoration-color: #800000\">│</span>                                                                                                  <span style=\"color: #800000; text-decoration-color: #800000\">│</span>\n",
       "<span style=\"color: #800000; text-decoration-color: #800000\">│</span>   <span style=\"color: #7f7f7f; text-decoration-color: #7f7f7f\">2768 </span><span style=\"color: #7f7f7f; text-decoration-color: #7f7f7f\">│   </span>                                                                                      <span style=\"color: #800000; text-decoration-color: #800000\">│</span>\n",
       "<span style=\"color: #800000; text-decoration-color: #800000\">│</span>   <span style=\"color: #7f7f7f; text-decoration-color: #7f7f7f\">2769 </span><span style=\"color: #bfbf7f; text-decoration-color: #bfbf7f\">│   </span><span style=\"color: #808000; text-decoration-color: #808000\">\"\"\"</span>                                                                                   <span style=\"color: #800000; text-decoration-color: #800000\">│</span>\n",
       "<span style=\"color: #800000; text-decoration-color: #800000\">│</span>   <span style=\"color: #7f7f7f; text-decoration-color: #7f7f7f\">2770 </span><span style=\"color: #7f7f7f; text-decoration-color: #7f7f7f\">│   </span>                                                                                      <span style=\"color: #800000; text-decoration-color: #800000\">│</span>\n",
       "<span style=\"color: #800000; text-decoration-color: #800000\">│</span> <span style=\"color: #800000; text-decoration-color: #800000\">❱ </span>2771 <span style=\"color: #7f7f7f; text-decoration-color: #7f7f7f\">│   </span><span style=\"color: #0000ff; text-decoration-color: #0000ff\">return</span> <span style=\"font-weight: bold; text-decoration: underline\">_CURRENT_EXPERIMENT.get_config(variable=variable)</span>                              <span style=\"color: #800000; text-decoration-color: #800000\">│</span>\n",
       "<span style=\"color: #800000; text-decoration-color: #800000\">│</span>   <span style=\"color: #7f7f7f; text-decoration-color: #7f7f7f\">2772 </span>                                                                                          <span style=\"color: #800000; text-decoration-color: #800000\">│</span>\n",
       "<span style=\"color: #800000; text-decoration-color: #800000\">│</span>   <span style=\"color: #7f7f7f; text-decoration-color: #7f7f7f\">2773 </span>                                                                                          <span style=\"color: #800000; text-decoration-color: #800000\">│</span>\n",
       "<span style=\"color: #800000; text-decoration-color: #800000\">│</span>   <span style=\"color: #7f7f7f; text-decoration-color: #7f7f7f\">2774 </span><span style=\"color: #ff00ff; text-decoration-color: #ff00ff; font-weight: bold\">@check_if_global_is_not_none</span>(<span style=\"color: #00ffff; text-decoration-color: #00ffff\">globals</span>(), _CURRENT_EXPERIMENT_DECORATOR_DICT)               <span style=\"color: #800000; text-decoration-color: #800000\">│</span>\n",
       "<span style=\"color: #800000; text-decoration-color: #800000\">│</span>                                                                                                  <span style=\"color: #800000; text-decoration-color: #800000\">│</span>\n",
       "<span style=\"color: #800000; text-decoration-color: #800000\">│</span> <span style=\"color: #808000; text-decoration-color: #808000\">C:\\Users\\Kleber\\Documents\\curso_intel_artificial\\eng_machine_learning\\eng_machine_proj\\virt_eng_</span> <span style=\"color: #800000; text-decoration-color: #800000\">│</span>\n",
       "<span style=\"color: #800000; text-decoration-color: #800000\">│</span> <span style=\"color: #808000; text-decoration-color: #808000\">mac_proj\\Lib\\site-packages\\pycaret\\internal\\pycaret_experiment\\pycaret_experiment.py</span>:<span style=\"color: #0000ff; text-decoration-color: #0000ff\">310</span> in      <span style=\"color: #800000; text-decoration-color: #800000\">│</span>\n",
       "<span style=\"color: #800000; text-decoration-color: #800000\">│</span> <span style=\"color: #00ff00; text-decoration-color: #00ff00\">get_config</span>                                                                                       <span style=\"color: #800000; text-decoration-color: #800000\">│</span>\n",
       "<span style=\"color: #800000; text-decoration-color: #800000\">│</span>                                                                                                  <span style=\"color: #800000; text-decoration-color: #800000\">│</span>\n",
       "<span style=\"color: #800000; text-decoration-color: #800000\">│</span>   <span style=\"color: #7f7f7f; text-decoration-color: #7f7f7f\">307 </span><span style=\"color: #7f7f7f; text-decoration-color: #7f7f7f\">│   │   │   </span><span style=\"color: #0000ff; text-decoration-color: #0000ff\">return</span> variable_and_property_keys                                              <span style=\"color: #800000; text-decoration-color: #800000\">│</span>\n",
       "<span style=\"color: #800000; text-decoration-color: #800000\">│</span>   <span style=\"color: #7f7f7f; text-decoration-color: #7f7f7f\">308 </span><span style=\"color: #7f7f7f; text-decoration-color: #7f7f7f\">│   │   </span>                                                                                   <span style=\"color: #800000; text-decoration-color: #800000\">│</span>\n",
       "<span style=\"color: #800000; text-decoration-color: #800000\">│</span>   <span style=\"color: #7f7f7f; text-decoration-color: #7f7f7f\">309 </span><span style=\"color: #7f7f7f; text-decoration-color: #7f7f7f\">│   │   </span><span style=\"color: #0000ff; text-decoration-color: #0000ff\">if</span> variable <span style=\"color: #ff00ff; text-decoration-color: #ff00ff\">not</span> <span style=\"color: #ff00ff; text-decoration-color: #ff00ff\">in</span> variable_and_property_keys:                                     <span style=\"color: #800000; text-decoration-color: #800000\">│</span>\n",
       "<span style=\"color: #800000; text-decoration-color: #800000\">│</span> <span style=\"color: #800000; text-decoration-color: #800000\">❱ </span>310 <span style=\"color: #7f7f7f; text-decoration-color: #7f7f7f\">│   │   │   </span><span style=\"color: #0000ff; text-decoration-color: #0000ff; font-weight: bold; text-decoration: underline\">raise</span><span style=\"font-weight: bold; text-decoration: underline\"> </span><span style=\"color: #00ffff; text-decoration-color: #00ffff; font-weight: bold; text-decoration: underline\">ValueError</span><span style=\"font-weight: bold; text-decoration: underline\">(</span>                                                              <span style=\"color: #800000; text-decoration-color: #800000\">│</span>\n",
       "<span style=\"color: #800000; text-decoration-color: #800000\">│</span>   <span style=\"color: #7f7f7f; text-decoration-color: #7f7f7f\">311 </span><span style=\"color: #7f7f7f; text-decoration-color: #7f7f7f; font-weight: bold; text-decoration: underline\">│   │   │   │   </span><span style=\"color: #808000; text-decoration-color: #808000; font-weight: bold; text-decoration: underline\">f\"Variable '{</span><span style=\"font-weight: bold; text-decoration: underline\">variable</span><span style=\"color: #808000; text-decoration-color: #808000; font-weight: bold; text-decoration: underline\">}' not found. Possible variables are: {</span><span style=\"color: #00ffff; text-decoration-color: #00ffff; font-weight: bold; text-decoration: underline\">list</span><span style=\"font-weight: bold; text-decoration: underline\">(variabl</span>   <span style=\"color: #800000; text-decoration-color: #800000\">│</span>\n",
       "<span style=\"color: #800000; text-decoration-color: #800000\">│</span>   <span style=\"color: #7f7f7f; text-decoration-color: #7f7f7f\">312 </span><span style=\"color: #7f7f7f; text-decoration-color: #7f7f7f; font-weight: bold; text-decoration: underline\">│   │   │   </span><span style=\"font-weight: bold; text-decoration: underline\">)</span>                                                                              <span style=\"color: #800000; text-decoration-color: #800000\">│</span>\n",
       "<span style=\"color: #800000; text-decoration-color: #800000\">│</span>   <span style=\"color: #7f7f7f; text-decoration-color: #7f7f7f\">313 </span>                                                                                           <span style=\"color: #800000; text-decoration-color: #800000\">│</span>\n",
       "<span style=\"color: #800000; text-decoration-color: #800000\">╰──────────────────────────────────────────────────────────────────────────────────────────────────╯</span>\n",
       "<span style=\"color: #ff0000; text-decoration-color: #ff0000; font-weight: bold\">ValueError: </span>Variable <span style=\"color: #008000; text-decoration-color: #008000\">'tuned_lr'</span> not found. Possible variables are: <span style=\"font-weight: bold\">[</span><span style=\"color: #008000; text-decoration-color: #008000\">'target_param'</span>, <span style=\"color: #008000; text-decoration-color: #008000\">'fold_shuffle_param'</span>, \n",
       "<span style=\"color: #008000; text-decoration-color: #008000\">'y_train'</span>, <span style=\"color: #008000; text-decoration-color: #008000\">'seed'</span>, <span style=\"color: #008000; text-decoration-color: #008000\">'n_jobs_param'</span>, <span style=\"color: #008000; text-decoration-color: #008000\">'fold_generator'</span>, <span style=\"color: #008000; text-decoration-color: #008000\">'logging_param'</span>, <span style=\"color: #008000; text-decoration-color: #008000\">'train_transformed'</span>, <span style=\"color: #008000; text-decoration-color: #008000\">'exp_name_log'</span>, \n",
       "<span style=\"color: #008000; text-decoration-color: #008000\">'is_multiclass'</span>, <span style=\"color: #008000; text-decoration-color: #008000\">'X_train'</span>, <span style=\"color: #008000; text-decoration-color: #008000\">'y_test'</span>, <span style=\"color: #008000; text-decoration-color: #008000\">'X_test'</span>, <span style=\"color: #008000; text-decoration-color: #008000\">'dataset_transformed'</span>, <span style=\"color: #008000; text-decoration-color: #008000\">'html_param'</span>, <span style=\"color: #008000; text-decoration-color: #008000\">'pipeline'</span>, <span style=\"color: #008000; text-decoration-color: #008000\">'y_transformed'</span>, \n",
       "<span style=\"color: #008000; text-decoration-color: #008000\">'variables'</span>, <span style=\"color: #008000; text-decoration-color: #008000\">'X'</span>, <span style=\"color: #008000; text-decoration-color: #008000\">'USI'</span>, <span style=\"color: #008000; text-decoration-color: #008000\">'gpu_param'</span>, <span style=\"color: #008000; text-decoration-color: #008000\">'train'</span>, <span style=\"color: #008000; text-decoration-color: #008000\">'y_test_transformed'</span>, <span style=\"color: #008000; text-decoration-color: #008000\">'log_plots_param'</span>, <span style=\"color: #008000; text-decoration-color: #008000\">'X_transformed'</span>, <span style=\"color: #008000; text-decoration-color: #008000\">'test'</span>, \n",
       "<span style=\"color: #008000; text-decoration-color: #008000\">'_ml_usecase'</span>, <span style=\"color: #008000; text-decoration-color: #008000\">'exp_id'</span>, <span style=\"color: #008000; text-decoration-color: #008000\">'fix_imbalance'</span>, <span style=\"color: #008000; text-decoration-color: #008000\">'fold_groups_param'</span>, <span style=\"color: #008000; text-decoration-color: #008000\">'gpu_n_jobs_param'</span>, <span style=\"color: #008000; text-decoration-color: #008000\">'X_train_transformed'</span>, \n",
       "<span style=\"color: #008000; text-decoration-color: #008000\">'test_transformed'</span>, <span style=\"color: #008000; text-decoration-color: #008000\">'memory'</span>, <span style=\"color: #008000; text-decoration-color: #008000\">'idx'</span>, <span style=\"color: #008000; text-decoration-color: #008000\">'y'</span>, <span style=\"color: #008000; text-decoration-color: #008000\">'_available_plots'</span>, <span style=\"color: #008000; text-decoration-color: #008000\">'dataset'</span>, <span style=\"color: #008000; text-decoration-color: #008000\">'variable_and_property_keys'</span>, \n",
       "<span style=\"color: #008000; text-decoration-color: #008000\">'X_test_transformed'</span>, <span style=\"color: #008000; text-decoration-color: #008000\">'y_train_transformed'</span>, <span style=\"color: #008000; text-decoration-color: #008000\">'data'</span><span style=\"font-weight: bold\">]</span>\n",
       "</pre>\n"
      ],
      "text/plain": [
       "\u001b[31m╭─\u001b[0m\u001b[31m──────────────────────────────\u001b[0m\u001b[31m \u001b[0m\u001b[1;31mTraceback \u001b[0m\u001b[1;2;31m(most recent call last)\u001b[0m\u001b[31m \u001b[0m\u001b[31m───────────────────────────────\u001b[0m\u001b[31m─╮\u001b[0m\n",
       "\u001b[31m│\u001b[0m in \u001b[92m<module>\u001b[0m:\u001b[94m5\u001b[0m                                                                                    \u001b[31m│\u001b[0m\n",
       "\u001b[31m│\u001b[0m                                                                                                  \u001b[31m│\u001b[0m\n",
       "\u001b[31m│\u001b[0m   \u001b[2m2 \u001b[0msetup(data=base_train, target=\u001b[33m'\u001b[0m\u001b[33mshot_made_flag\u001b[0m\u001b[33m'\u001b[0m, test_data=base_test, session_id=\u001b[94m1146\u001b[0m)        \u001b[31m│\u001b[0m\n",
       "\u001b[31m│\u001b[0m   \u001b[2m3 \u001b[0mlr_model = create_model(\u001b[33m'\u001b[0m\u001b[33mlr\u001b[0m\u001b[33m'\u001b[0m)  \u001b[2m# Default logistic regression model\u001b[0m                           \u001b[31m│\u001b[0m\n",
       "\u001b[31m│\u001b[0m   \u001b[2m4 \u001b[0mtuned_lr = tune_model(lr_model)                                                              \u001b[31m│\u001b[0m\n",
       "\u001b[31m│\u001b[0m \u001b[31m❱ \u001b[0m5 model_info = \u001b[1;4mget_config(\u001b[0m\u001b[1;4;33m'\u001b[0m\u001b[1;4;33mtuned_lr\u001b[0m\u001b[1;4;33m'\u001b[0m\u001b[1;4m)\u001b[0m                                                          \u001b[31m│\u001b[0m\n",
       "\u001b[31m│\u001b[0m   \u001b[2m6 \u001b[0m\u001b[96mprint\u001b[0m(\u001b[33m\"\u001b[0m\u001b[33mModel Name:\u001b[0m\u001b[33m\"\u001b[0m, model_info.\u001b[91m__class__\u001b[0m.\u001b[91m__name__\u001b[0m)                                          \u001b[31m│\u001b[0m\n",
       "\u001b[31m│\u001b[0m   \u001b[2m7 \u001b[0m                                                                                             \u001b[31m│\u001b[0m\n",
       "\u001b[31m│\u001b[0m                                                                                                  \u001b[31m│\u001b[0m\n",
       "\u001b[31m│\u001b[0m \u001b[33mC:\\Users\\Kleber\\Documents\\curso_intel_artificial\\eng_machine_learning\\eng_machine_proj\\virt_eng_\u001b[0m \u001b[31m│\u001b[0m\n",
       "\u001b[31m│\u001b[0m \u001b[33mmac_proj\\Lib\\site-packages\\pycaret\\utils\\generic.py\u001b[0m:\u001b[94m964\u001b[0m in \u001b[92mwrapper\u001b[0m                               \u001b[31m│\u001b[0m\n",
       "\u001b[31m│\u001b[0m                                                                                                  \u001b[31m│\u001b[0m\n",
       "\u001b[31m│\u001b[0m   \u001b[2m 961 \u001b[0m\u001b[2m│   │   │   \u001b[0m\u001b[94mfor\u001b[0m name, message \u001b[95min\u001b[0m global_names.items():                                    \u001b[31m│\u001b[0m\n",
       "\u001b[31m│\u001b[0m   \u001b[2m 962 \u001b[0m\u001b[2m│   │   │   │   \u001b[0m\u001b[94mif\u001b[0m globals_d[name] \u001b[95mis\u001b[0m \u001b[94mNone\u001b[0m:                                               \u001b[31m│\u001b[0m\n",
       "\u001b[31m│\u001b[0m   \u001b[2m 963 \u001b[0m\u001b[2m│   │   │   │   │   \u001b[0m\u001b[94mraise\u001b[0m \u001b[96mValueError\u001b[0m(message)                                             \u001b[31m│\u001b[0m\n",
       "\u001b[31m│\u001b[0m \u001b[31m❱ \u001b[0m 964 \u001b[2m│   │   │   \u001b[0m\u001b[94mreturn\u001b[0m \u001b[1;4mfunc(*args, **kwargs)\u001b[0m                                                  \u001b[31m│\u001b[0m\n",
       "\u001b[31m│\u001b[0m   \u001b[2m 965 \u001b[0m\u001b[2m│   │   \u001b[0m                                                                                  \u001b[31m│\u001b[0m\n",
       "\u001b[31m│\u001b[0m   \u001b[2m 966 \u001b[0m\u001b[2m│   │   \u001b[0m\u001b[94mreturn\u001b[0m wrapper                                                                    \u001b[31m│\u001b[0m\n",
       "\u001b[31m│\u001b[0m   \u001b[2m 967 \u001b[0m                                                                                          \u001b[31m│\u001b[0m\n",
       "\u001b[31m│\u001b[0m                                                                                                  \u001b[31m│\u001b[0m\n",
       "\u001b[31m│\u001b[0m \u001b[33mC:\\Users\\Kleber\\Documents\\curso_intel_artificial\\eng_machine_learning\\eng_machine_proj\\virt_eng_\u001b[0m \u001b[31m│\u001b[0m\n",
       "\u001b[31m│\u001b[0m \u001b[33mmac_proj\\Lib\\site-packages\\pycaret\\classification\\functional.py\u001b[0m:\u001b[94m2771\u001b[0m in \u001b[92mget_config\u001b[0m               \u001b[31m│\u001b[0m\n",
       "\u001b[31m│\u001b[0m                                                                                                  \u001b[31m│\u001b[0m\n",
       "\u001b[31m│\u001b[0m   \u001b[2m2768 \u001b[0m\u001b[2m│   \u001b[0m                                                                                      \u001b[31m│\u001b[0m\n",
       "\u001b[31m│\u001b[0m   \u001b[2m2769 \u001b[0m\u001b[2;33m│   \u001b[0m\u001b[33m\"\"\"\u001b[0m                                                                                   \u001b[31m│\u001b[0m\n",
       "\u001b[31m│\u001b[0m   \u001b[2m2770 \u001b[0m\u001b[2m│   \u001b[0m                                                                                      \u001b[31m│\u001b[0m\n",
       "\u001b[31m│\u001b[0m \u001b[31m❱ \u001b[0m2771 \u001b[2m│   \u001b[0m\u001b[94mreturn\u001b[0m \u001b[1;4m_CURRENT_EXPERIMENT.get_config(variable=variable)\u001b[0m                              \u001b[31m│\u001b[0m\n",
       "\u001b[31m│\u001b[0m   \u001b[2m2772 \u001b[0m                                                                                          \u001b[31m│\u001b[0m\n",
       "\u001b[31m│\u001b[0m   \u001b[2m2773 \u001b[0m                                                                                          \u001b[31m│\u001b[0m\n",
       "\u001b[31m│\u001b[0m   \u001b[2m2774 \u001b[0m\u001b[1;95m@check_if_global_is_not_none\u001b[0m(\u001b[96mglobals\u001b[0m(), _CURRENT_EXPERIMENT_DECORATOR_DICT)               \u001b[31m│\u001b[0m\n",
       "\u001b[31m│\u001b[0m                                                                                                  \u001b[31m│\u001b[0m\n",
       "\u001b[31m│\u001b[0m \u001b[33mC:\\Users\\Kleber\\Documents\\curso_intel_artificial\\eng_machine_learning\\eng_machine_proj\\virt_eng_\u001b[0m \u001b[31m│\u001b[0m\n",
       "\u001b[31m│\u001b[0m \u001b[33mmac_proj\\Lib\\site-packages\\pycaret\\internal\\pycaret_experiment\\pycaret_experiment.py\u001b[0m:\u001b[94m310\u001b[0m in      \u001b[31m│\u001b[0m\n",
       "\u001b[31m│\u001b[0m \u001b[92mget_config\u001b[0m                                                                                       \u001b[31m│\u001b[0m\n",
       "\u001b[31m│\u001b[0m                                                                                                  \u001b[31m│\u001b[0m\n",
       "\u001b[31m│\u001b[0m   \u001b[2m307 \u001b[0m\u001b[2m│   │   │   \u001b[0m\u001b[94mreturn\u001b[0m variable_and_property_keys                                              \u001b[31m│\u001b[0m\n",
       "\u001b[31m│\u001b[0m   \u001b[2m308 \u001b[0m\u001b[2m│   │   \u001b[0m                                                                                   \u001b[31m│\u001b[0m\n",
       "\u001b[31m│\u001b[0m   \u001b[2m309 \u001b[0m\u001b[2m│   │   \u001b[0m\u001b[94mif\u001b[0m variable \u001b[95mnot\u001b[0m \u001b[95min\u001b[0m variable_and_property_keys:                                     \u001b[31m│\u001b[0m\n",
       "\u001b[31m│\u001b[0m \u001b[31m❱ \u001b[0m310 \u001b[2m│   │   │   \u001b[0m\u001b[1;4;94mraise\u001b[0m\u001b[1;4m \u001b[0m\u001b[1;4;96mValueError\u001b[0m\u001b[1;4m(\u001b[0m                                                              \u001b[31m│\u001b[0m\n",
       "\u001b[31m│\u001b[0m   \u001b[2m311 \u001b[0m\u001b[1;2;4m│   │   │   │   \u001b[0m\u001b[1;4;33mf\u001b[0m\u001b[1;4;33m\"\u001b[0m\u001b[1;4;33mVariable \u001b[0m\u001b[1;4;33m'\u001b[0m\u001b[1;4;33m{\u001b[0m\u001b[1;4mvariable\u001b[0m\u001b[1;4;33m}\u001b[0m\u001b[1;4;33m'\u001b[0m\u001b[1;4;33m not found. Possible variables are: \u001b[0m\u001b[1;4;33m{\u001b[0m\u001b[1;4;96mlist\u001b[0m\u001b[1;4m(variabl\u001b[0m   \u001b[31m│\u001b[0m\n",
       "\u001b[31m│\u001b[0m   \u001b[2m312 \u001b[0m\u001b[1;2;4m│   │   │   \u001b[0m\u001b[1;4m)\u001b[0m                                                                              \u001b[31m│\u001b[0m\n",
       "\u001b[31m│\u001b[0m   \u001b[2m313 \u001b[0m                                                                                           \u001b[31m│\u001b[0m\n",
       "\u001b[31m╰──────────────────────────────────────────────────────────────────────────────────────────────────╯\u001b[0m\n",
       "\u001b[1;91mValueError: \u001b[0mVariable \u001b[32m'tuned_lr'\u001b[0m not found. Possible variables are: \u001b[1m[\u001b[0m\u001b[32m'target_param'\u001b[0m, \u001b[32m'fold_shuffle_param'\u001b[0m, \n",
       "\u001b[32m'y_train'\u001b[0m, \u001b[32m'seed'\u001b[0m, \u001b[32m'n_jobs_param'\u001b[0m, \u001b[32m'fold_generator'\u001b[0m, \u001b[32m'logging_param'\u001b[0m, \u001b[32m'train_transformed'\u001b[0m, \u001b[32m'exp_name_log'\u001b[0m, \n",
       "\u001b[32m'is_multiclass'\u001b[0m, \u001b[32m'X_train'\u001b[0m, \u001b[32m'y_test'\u001b[0m, \u001b[32m'X_test'\u001b[0m, \u001b[32m'dataset_transformed'\u001b[0m, \u001b[32m'html_param'\u001b[0m, \u001b[32m'pipeline'\u001b[0m, \u001b[32m'y_transformed'\u001b[0m, \n",
       "\u001b[32m'variables'\u001b[0m, \u001b[32m'X'\u001b[0m, \u001b[32m'USI'\u001b[0m, \u001b[32m'gpu_param'\u001b[0m, \u001b[32m'train'\u001b[0m, \u001b[32m'y_test_transformed'\u001b[0m, \u001b[32m'log_plots_param'\u001b[0m, \u001b[32m'X_transformed'\u001b[0m, \u001b[32m'test'\u001b[0m, \n",
       "\u001b[32m'_ml_usecase'\u001b[0m, \u001b[32m'exp_id'\u001b[0m, \u001b[32m'fix_imbalance'\u001b[0m, \u001b[32m'fold_groups_param'\u001b[0m, \u001b[32m'gpu_n_jobs_param'\u001b[0m, \u001b[32m'X_train_transformed'\u001b[0m, \n",
       "\u001b[32m'test_transformed'\u001b[0m, \u001b[32m'memory'\u001b[0m, \u001b[32m'idx'\u001b[0m, \u001b[32m'y'\u001b[0m, \u001b[32m'_available_plots'\u001b[0m, \u001b[32m'dataset'\u001b[0m, \u001b[32m'variable_and_property_keys'\u001b[0m, \n",
       "\u001b[32m'X_test_transformed'\u001b[0m, \u001b[32m'y_train_transformed'\u001b[0m, \u001b[32m'data'\u001b[0m\u001b[1m]\u001b[0m\n"
      ]
     },
     "metadata": {},
     "output_type": "display_data"
    }
   ],
   "source": [
    "from pycaret.classification import *\n",
    "setup(data=base_train, target='shot_made_flag', test_data=base_test, session_id=1146)\n",
    "lr_model = create_model('lr')  # Default logistic regression model\n",
    "tuned_lr = tune_model(lr_model)\n"
   ]
  },
  {
   "cell_type": "code",
   "execution_count": 16,
   "id": "c9825585-da54-45c5-8896-1cdcd6637543",
   "metadata": {},
   "outputs": [
    {
     "name": "stdout",
     "output_type": "stream",
     "text": [
      "LogisticRegression(C=7.275, class_weight={}, dual=False, fit_intercept=True,\n",
      "                   intercept_scaling=1, l1_ratio=None, max_iter=1000,\n",
      "                   multi_class='auto', n_jobs=None, penalty='l2',\n",
      "                   random_state=1146, solver='lbfgs', tol=0.0001, verbose=0,\n",
      "                   warm_start=False)\n"
     ]
    }
   ],
   "source": [
    "print(tuned_lr)"
   ]
  },
  {
   "cell_type": "code",
   "execution_count": 25,
   "id": "e71dd44e-bfc2-4580-9831-79cdf43bb01b",
   "metadata": {},
   "outputs": [
    {
     "data": {
      "text/html": [
       "<pre style=\"white-space:pre;overflow-x:auto;line-height:normal;font-family:Menlo,'DejaVu Sans Mono',consolas,'Courier New',monospace\"></pre>\n"
      ],
      "text/plain": []
     },
     "metadata": {},
     "output_type": "display_data"
    },
    {
     "data": {
      "text/html": [
       "<style type=\"text/css\">\n",
       "</style>\n",
       "<table id=\"T_b7767\">\n",
       "  <thead>\n",
       "    <tr>\n",
       "      <th class=\"blank level0\" >&nbsp;</th>\n",
       "      <th id=\"T_b7767_level0_col0\" class=\"col_heading level0 col0\" >Model</th>\n",
       "      <th id=\"T_b7767_level0_col1\" class=\"col_heading level0 col1\" >Accuracy</th>\n",
       "      <th id=\"T_b7767_level0_col2\" class=\"col_heading level0 col2\" >AUC</th>\n",
       "      <th id=\"T_b7767_level0_col3\" class=\"col_heading level0 col3\" >Recall</th>\n",
       "      <th id=\"T_b7767_level0_col4\" class=\"col_heading level0 col4\" >Prec.</th>\n",
       "      <th id=\"T_b7767_level0_col5\" class=\"col_heading level0 col5\" >F1</th>\n",
       "      <th id=\"T_b7767_level0_col6\" class=\"col_heading level0 col6\" >Kappa</th>\n",
       "      <th id=\"T_b7767_level0_col7\" class=\"col_heading level0 col7\" >MCC</th>\n",
       "    </tr>\n",
       "  </thead>\n",
       "  <tbody>\n",
       "    <tr>\n",
       "      <th id=\"T_b7767_level0_row0\" class=\"row_heading level0 row0\" >0</th>\n",
       "      <td id=\"T_b7767_row0_col0\" class=\"data row0 col0\" >Logistic Regression</td>\n",
       "      <td id=\"T_b7767_row0_col1\" class=\"data row0 col1\" >0.5822</td>\n",
       "      <td id=\"T_b7767_row0_col2\" class=\"data row0 col2\" >0.6026</td>\n",
       "      <td id=\"T_b7767_row0_col3\" class=\"data row0 col3\" >0.4827</td>\n",
       "      <td id=\"T_b7767_row0_col4\" class=\"data row0 col4\" >0.5743</td>\n",
       "      <td id=\"T_b7767_row0_col5\" class=\"data row0 col5\" >0.5245</td>\n",
       "      <td id=\"T_b7767_row0_col6\" class=\"data row0 col6\" >0.1569</td>\n",
       "      <td id=\"T_b7767_row0_col7\" class=\"data row0 col7\" >0.1588</td>\n",
       "    </tr>\n",
       "  </tbody>\n",
       "</table>\n"
      ],
      "text/plain": [
       "\u001b[1m<\u001b[0m\u001b[1;95mpandas.io.formats.style.Styler\u001b[0m\u001b[39m object at \u001b[0m\u001b[1;36m0x0000029F44858410\u001b[0m\u001b[1m>\u001b[0m"
      ]
     },
     "metadata": {},
     "output_type": "display_data"
    },
    {
     "data": {
      "text/html": [
       "<pre style=\"white-space:pre;overflow-x:auto;line-height:normal;font-family:Menlo,'DejaVu Sans Mono',consolas,'Courier New',monospace\"></pre>\n"
      ],
      "text/plain": []
     },
     "metadata": {},
     "output_type": "display_data"
    },
    {
     "data": {
      "text/html": [
       "<pre style=\"white-space:pre;overflow-x:auto;line-height:normal;font-family:Menlo,'DejaVu Sans Mono',consolas,'Courier New',monospace\"></pre>\n"
      ],
      "text/plain": []
     },
     "metadata": {},
     "output_type": "display_data"
    },
    {
     "data": {
      "text/html": [
       "<div>\n",
       "<style scoped>\n",
       "    .dataframe tbody tr th:only-of-type {\n",
       "        vertical-align: middle;\n",
       "    }\n",
       "\n",
       "    .dataframe tbody tr th {\n",
       "        vertical-align: top;\n",
       "    }\n",
       "\n",
       "    .dataframe thead th {\n",
       "        text-align: right;\n",
       "    }\n",
       "</style>\n",
       "<table border=\"1\" class=\"dataframe\">\n",
       "  <thead>\n",
       "    <tr style=\"text-align: right;\">\n",
       "      <th></th>\n",
       "      <th>lat</th>\n",
       "      <th>lon</th>\n",
       "      <th>minutes_remaining</th>\n",
       "      <th>period</th>\n",
       "      <th>playoffs</th>\n",
       "      <th>shot_distance</th>\n",
       "      <th>shot_made_flag</th>\n",
       "      <th>prediction_label</th>\n",
       "      <th>prediction_score</th>\n",
       "    </tr>\n",
       "  </thead>\n",
       "  <tbody>\n",
       "    <tr>\n",
       "      <th>29350</th>\n",
       "      <td>33.937302</td>\n",
       "      <td>-118.150803</td>\n",
       "      <td>6</td>\n",
       "      <td>4</td>\n",
       "      <td>1</td>\n",
       "      <td>16</td>\n",
       "      <td>0.0</td>\n",
       "      <td>0</td>\n",
       "      <td>0.6120</td>\n",
       "    </tr>\n",
       "    <tr>\n",
       "      <th>6911</th>\n",
       "      <td>34.044300</td>\n",
       "      <td>-118.423798</td>\n",
       "      <td>11</td>\n",
       "      <td>1</td>\n",
       "      <td>0</td>\n",
       "      <td>15</td>\n",
       "      <td>0.0</td>\n",
       "      <td>0</td>\n",
       "      <td>0.5536</td>\n",
       "    </tr>\n",
       "    <tr>\n",
       "      <th>23696</th>\n",
       "      <td>34.044300</td>\n",
       "      <td>-118.269798</td>\n",
       "      <td>5</td>\n",
       "      <td>2</td>\n",
       "      <td>0</td>\n",
       "      <td>0</td>\n",
       "      <td>0.0</td>\n",
       "      <td>1</td>\n",
       "      <td>0.5963</td>\n",
       "    </tr>\n",
       "    <tr>\n",
       "      <th>29743</th>\n",
       "      <td>33.865299</td>\n",
       "      <td>-118.186798</td>\n",
       "      <td>3</td>\n",
       "      <td>3</td>\n",
       "      <td>1</td>\n",
       "      <td>19</td>\n",
       "      <td>0.0</td>\n",
       "      <td>0</td>\n",
       "      <td>0.6278</td>\n",
       "    </tr>\n",
       "    <tr>\n",
       "      <th>26082</th>\n",
       "      <td>33.912300</td>\n",
       "      <td>-118.326797</td>\n",
       "      <td>1</td>\n",
       "      <td>3</td>\n",
       "      <td>0</td>\n",
       "      <td>14</td>\n",
       "      <td>1.0</td>\n",
       "      <td>0</td>\n",
       "      <td>0.5673</td>\n",
       "    </tr>\n",
       "    <tr>\n",
       "      <th>...</th>\n",
       "      <td>...</td>\n",
       "      <td>...</td>\n",
       "      <td>...</td>\n",
       "      <td>...</td>\n",
       "      <td>...</td>\n",
       "      <td>...</td>\n",
       "      <td>...</td>\n",
       "      <td>...</td>\n",
       "      <td>...</td>\n",
       "    </tr>\n",
       "    <tr>\n",
       "      <th>15151</th>\n",
       "      <td>34.044300</td>\n",
       "      <td>-118.269798</td>\n",
       "      <td>8</td>\n",
       "      <td>1</td>\n",
       "      <td>0</td>\n",
       "      <td>0</td>\n",
       "      <td>1.0</td>\n",
       "      <td>1</td>\n",
       "      <td>0.6152</td>\n",
       "    </tr>\n",
       "    <tr>\n",
       "      <th>12072</th>\n",
       "      <td>34.044300</td>\n",
       "      <td>-118.269798</td>\n",
       "      <td>6</td>\n",
       "      <td>3</td>\n",
       "      <td>0</td>\n",
       "      <td>0</td>\n",
       "      <td>1.0</td>\n",
       "      <td>1</td>\n",
       "      <td>0.5890</td>\n",
       "    </tr>\n",
       "    <tr>\n",
       "      <th>12537</th>\n",
       "      <td>34.044300</td>\n",
       "      <td>-118.269798</td>\n",
       "      <td>0</td>\n",
       "      <td>1</td>\n",
       "      <td>0</td>\n",
       "      <td>0</td>\n",
       "      <td>0.0</td>\n",
       "      <td>1</td>\n",
       "      <td>0.5916</td>\n",
       "    </tr>\n",
       "    <tr>\n",
       "      <th>20600</th>\n",
       "      <td>33.880299</td>\n",
       "      <td>-118.389801</td>\n",
       "      <td>6</td>\n",
       "      <td>1</td>\n",
       "      <td>0</td>\n",
       "      <td>20</td>\n",
       "      <td>0.0</td>\n",
       "      <td>0</td>\n",
       "      <td>0.5941</td>\n",
       "    </tr>\n",
       "    <tr>\n",
       "      <th>24856</th>\n",
       "      <td>33.843300</td>\n",
       "      <td>-118.317802</td>\n",
       "      <td>4</td>\n",
       "      <td>3</td>\n",
       "      <td>0</td>\n",
       "      <td>20</td>\n",
       "      <td>0.0</td>\n",
       "      <td>0</td>\n",
       "      <td>0.6165</td>\n",
       "    </tr>\n",
       "  </tbody>\n",
       "</table>\n",
       "<p>4057 rows × 9 columns</p>\n",
       "</div>"
      ],
      "text/plain": [
       "\n",
       "             lat         lon  minutes_remaining  period  playoffs  \\\n",
       "\u001b[1;36m29350\u001b[0m  \u001b[1;36m33.937302\u001b[0m \u001b[1;36m-118.150803\u001b[0m                  \u001b[1;36m6\u001b[0m       \u001b[1;36m4\u001b[0m         \u001b[1;36m1\u001b[0m   \n",
       "\u001b[1;36m6911\u001b[0m   \u001b[1;36m34.044300\u001b[0m \u001b[1;36m-118.423798\u001b[0m                 \u001b[1;36m11\u001b[0m       \u001b[1;36m1\u001b[0m         \u001b[1;36m0\u001b[0m   \n",
       "\u001b[1;36m23696\u001b[0m  \u001b[1;36m34.044300\u001b[0m \u001b[1;36m-118.269798\u001b[0m                  \u001b[1;36m5\u001b[0m       \u001b[1;36m2\u001b[0m         \u001b[1;36m0\u001b[0m   \n",
       "\u001b[1;36m29743\u001b[0m  \u001b[1;36m33.865299\u001b[0m \u001b[1;36m-118.186798\u001b[0m                  \u001b[1;36m3\u001b[0m       \u001b[1;36m3\u001b[0m         \u001b[1;36m1\u001b[0m   \n",
       "\u001b[1;36m26082\u001b[0m  \u001b[1;36m33.912300\u001b[0m \u001b[1;36m-118.326797\u001b[0m                  \u001b[1;36m1\u001b[0m       \u001b[1;36m3\u001b[0m         \u001b[1;36m0\u001b[0m   \n",
       "\u001b[33m...\u001b[0m          \u001b[33m...\u001b[0m         \u001b[33m...\u001b[0m                \u001b[33m...\u001b[0m     \u001b[33m...\u001b[0m       \u001b[33m...\u001b[0m   \n",
       "\u001b[1;36m15151\u001b[0m  \u001b[1;36m34.044300\u001b[0m \u001b[1;36m-118.269798\u001b[0m                  \u001b[1;36m8\u001b[0m       \u001b[1;36m1\u001b[0m         \u001b[1;36m0\u001b[0m   \n",
       "\u001b[1;36m12072\u001b[0m  \u001b[1;36m34.044300\u001b[0m \u001b[1;36m-118.269798\u001b[0m                  \u001b[1;36m6\u001b[0m       \u001b[1;36m3\u001b[0m         \u001b[1;36m0\u001b[0m   \n",
       "\u001b[1;36m12537\u001b[0m  \u001b[1;36m34.044300\u001b[0m \u001b[1;36m-118.269798\u001b[0m                  \u001b[1;36m0\u001b[0m       \u001b[1;36m1\u001b[0m         \u001b[1;36m0\u001b[0m   \n",
       "\u001b[1;36m20600\u001b[0m  \u001b[1;36m33.880299\u001b[0m \u001b[1;36m-118.389801\u001b[0m                  \u001b[1;36m6\u001b[0m       \u001b[1;36m1\u001b[0m         \u001b[1;36m0\u001b[0m   \n",
       "\u001b[1;36m24856\u001b[0m  \u001b[1;36m33.843300\u001b[0m \u001b[1;36m-118.317802\u001b[0m                  \u001b[1;36m4\u001b[0m       \u001b[1;36m3\u001b[0m         \u001b[1;36m0\u001b[0m   \n",
       "\n",
       "       shot_distance  shot_made_flag  prediction_label  prediction_score  \n",
       "\u001b[1;36m29350\u001b[0m             \u001b[1;36m16\u001b[0m             \u001b[1;36m0.0\u001b[0m                 \u001b[1;36m0\u001b[0m            \u001b[1;36m0.6120\u001b[0m  \n",
       "\u001b[1;36m6911\u001b[0m              \u001b[1;36m15\u001b[0m             \u001b[1;36m0.0\u001b[0m                 \u001b[1;36m0\u001b[0m            \u001b[1;36m0.5536\u001b[0m  \n",
       "\u001b[1;36m23696\u001b[0m              \u001b[1;36m0\u001b[0m             \u001b[1;36m0.0\u001b[0m                 \u001b[1;36m1\u001b[0m            \u001b[1;36m0.5963\u001b[0m  \n",
       "\u001b[1;36m29743\u001b[0m             \u001b[1;36m19\u001b[0m             \u001b[1;36m0.0\u001b[0m                 \u001b[1;36m0\u001b[0m            \u001b[1;36m0.6278\u001b[0m  \n",
       "\u001b[1;36m26082\u001b[0m             \u001b[1;36m14\u001b[0m             \u001b[1;36m1.0\u001b[0m                 \u001b[1;36m0\u001b[0m            \u001b[1;36m0.5673\u001b[0m  \n",
       "\u001b[33m...\u001b[0m              \u001b[33m...\u001b[0m             \u001b[33m...\u001b[0m               \u001b[33m...\u001b[0m               \u001b[33m...\u001b[0m  \n",
       "\u001b[1;36m15151\u001b[0m              \u001b[1;36m0\u001b[0m             \u001b[1;36m1.0\u001b[0m                 \u001b[1;36m1\u001b[0m            \u001b[1;36m0.6152\u001b[0m  \n",
       "\u001b[1;36m12072\u001b[0m              \u001b[1;36m0\u001b[0m             \u001b[1;36m1.0\u001b[0m                 \u001b[1;36m1\u001b[0m            \u001b[1;36m0.5890\u001b[0m  \n",
       "\u001b[1;36m12537\u001b[0m              \u001b[1;36m0\u001b[0m             \u001b[1;36m0.0\u001b[0m                 \u001b[1;36m1\u001b[0m            \u001b[1;36m0.5916\u001b[0m  \n",
       "\u001b[1;36m20600\u001b[0m             \u001b[1;36m20\u001b[0m             \u001b[1;36m0.0\u001b[0m                 \u001b[1;36m0\u001b[0m            \u001b[1;36m0.5941\u001b[0m  \n",
       "\u001b[1;36m24856\u001b[0m             \u001b[1;36m20\u001b[0m             \u001b[1;36m0.0\u001b[0m                 \u001b[1;36m0\u001b[0m            \u001b[1;36m0.6165\u001b[0m  \n",
       "\n",
       "\u001b[1m[\u001b[0m\u001b[1;36m4057\u001b[0m rows x \u001b[1;36m9\u001b[0m columns\u001b[1m]\u001b[0m"
      ]
     },
     "execution_count": 25,
     "metadata": {},
     "output_type": "execute_result"
    }
   ],
   "source": [
    "test_predictions = predict_model(tuned_lr, data=base_test)\n",
    "test_predictions"
   ]
  },
  {
   "cell_type": "code",
   "execution_count": 28,
   "id": "d2f2c593-0264-47eb-b21b-c5271e3ad432",
   "metadata": {},
   "outputs": [
    {
     "data": {
      "text/html": [
       "<pre style=\"white-space:pre;overflow-x:auto;line-height:normal;font-family:Menlo,'DejaVu Sans Mono',consolas,'Courier New',monospace\"></pre>\n"
      ],
      "text/plain": []
     },
     "metadata": {},
     "output_type": "display_data"
    },
    {
     "data": {
      "text/plain": [
       "\u001b[1;36m0.7195821024481877\u001b[0m"
      ]
     },
     "execution_count": 28,
     "metadata": {},
     "output_type": "execute_result"
    }
   ],
   "source": [
    "from sklearn.metrics import log_loss\n",
    "\n",
    "# Extract probabilities and true labels\n",
    "probabilities = test_predictions[['prediction_score']]  # 'Score' contains predicted probabilities\n",
    "true_labels = test_predictions['shot_made_flag']\n",
    "\n",
    "# Calculate log loss\n",
    "log_loss_value = log_loss(true_labels, probabilities)\n",
    "log_loss_value"
   ]
  },
  {
   "cell_type": "code",
   "execution_count": 30,
   "id": "c9b01fa3-e792-412c-8ca8-d3eb15cee30a",
   "metadata": {},
   "outputs": [
    {
     "data": {
      "text/html": [
       "<pre style=\"white-space:pre;overflow-x:auto;line-height:normal;font-family:Menlo,'DejaVu Sans Mono',consolas,'Courier New',monospace\"></pre>\n"
      ],
      "text/plain": []
     },
     "metadata": {},
     "output_type": "display_data"
    },
    {
     "data": {
      "text/html": [
       "<div>\n",
       "<style scoped>\n",
       "    .dataframe tbody tr th:only-of-type {\n",
       "        vertical-align: middle;\n",
       "    }\n",
       "\n",
       "    .dataframe tbody tr th {\n",
       "        vertical-align: top;\n",
       "    }\n",
       "\n",
       "    .dataframe thead th {\n",
       "        text-align: right;\n",
       "    }\n",
       "</style>\n",
       "<table border=\"1\" class=\"dataframe\">\n",
       "  <thead>\n",
       "    <tr style=\"text-align: right;\">\n",
       "      <th></th>\n",
       "      <th>lat</th>\n",
       "      <th>lon</th>\n",
       "      <th>minutes_remaining</th>\n",
       "      <th>period</th>\n",
       "      <th>playoffs</th>\n",
       "      <th>shot_distance</th>\n",
       "      <th>shot_made_flag</th>\n",
       "      <th>prediction_label</th>\n",
       "      <th>prediction_score</th>\n",
       "    </tr>\n",
       "  </thead>\n",
       "  <tbody>\n",
       "    <tr>\n",
       "      <th>29350</th>\n",
       "      <td>33.937302</td>\n",
       "      <td>-118.150803</td>\n",
       "      <td>6</td>\n",
       "      <td>4</td>\n",
       "      <td>1</td>\n",
       "      <td>16</td>\n",
       "      <td>0.0</td>\n",
       "      <td>0</td>\n",
       "      <td>0.6120</td>\n",
       "    </tr>\n",
       "    <tr>\n",
       "      <th>6911</th>\n",
       "      <td>34.044300</td>\n",
       "      <td>-118.423798</td>\n",
       "      <td>11</td>\n",
       "      <td>1</td>\n",
       "      <td>0</td>\n",
       "      <td>15</td>\n",
       "      <td>0.0</td>\n",
       "      <td>0</td>\n",
       "      <td>0.5536</td>\n",
       "    </tr>\n",
       "    <tr>\n",
       "      <th>23696</th>\n",
       "      <td>34.044300</td>\n",
       "      <td>-118.269798</td>\n",
       "      <td>5</td>\n",
       "      <td>2</td>\n",
       "      <td>0</td>\n",
       "      <td>0</td>\n",
       "      <td>0.0</td>\n",
       "      <td>1</td>\n",
       "      <td>0.5963</td>\n",
       "    </tr>\n",
       "    <tr>\n",
       "      <th>29743</th>\n",
       "      <td>33.865299</td>\n",
       "      <td>-118.186798</td>\n",
       "      <td>3</td>\n",
       "      <td>3</td>\n",
       "      <td>1</td>\n",
       "      <td>19</td>\n",
       "      <td>0.0</td>\n",
       "      <td>0</td>\n",
       "      <td>0.6278</td>\n",
       "    </tr>\n",
       "    <tr>\n",
       "      <th>26082</th>\n",
       "      <td>33.912300</td>\n",
       "      <td>-118.326797</td>\n",
       "      <td>1</td>\n",
       "      <td>3</td>\n",
       "      <td>0</td>\n",
       "      <td>14</td>\n",
       "      <td>1.0</td>\n",
       "      <td>0</td>\n",
       "      <td>0.5673</td>\n",
       "    </tr>\n",
       "    <tr>\n",
       "      <th>...</th>\n",
       "      <td>...</td>\n",
       "      <td>...</td>\n",
       "      <td>...</td>\n",
       "      <td>...</td>\n",
       "      <td>...</td>\n",
       "      <td>...</td>\n",
       "      <td>...</td>\n",
       "      <td>...</td>\n",
       "      <td>...</td>\n",
       "    </tr>\n",
       "    <tr>\n",
       "      <th>15151</th>\n",
       "      <td>34.044300</td>\n",
       "      <td>-118.269798</td>\n",
       "      <td>8</td>\n",
       "      <td>1</td>\n",
       "      <td>0</td>\n",
       "      <td>0</td>\n",
       "      <td>1.0</td>\n",
       "      <td>1</td>\n",
       "      <td>0.6152</td>\n",
       "    </tr>\n",
       "    <tr>\n",
       "      <th>12072</th>\n",
       "      <td>34.044300</td>\n",
       "      <td>-118.269798</td>\n",
       "      <td>6</td>\n",
       "      <td>3</td>\n",
       "      <td>0</td>\n",
       "      <td>0</td>\n",
       "      <td>1.0</td>\n",
       "      <td>1</td>\n",
       "      <td>0.5890</td>\n",
       "    </tr>\n",
       "    <tr>\n",
       "      <th>12537</th>\n",
       "      <td>34.044300</td>\n",
       "      <td>-118.269798</td>\n",
       "      <td>0</td>\n",
       "      <td>1</td>\n",
       "      <td>0</td>\n",
       "      <td>0</td>\n",
       "      <td>0.0</td>\n",
       "      <td>1</td>\n",
       "      <td>0.5916</td>\n",
       "    </tr>\n",
       "    <tr>\n",
       "      <th>20600</th>\n",
       "      <td>33.880299</td>\n",
       "      <td>-118.389801</td>\n",
       "      <td>6</td>\n",
       "      <td>1</td>\n",
       "      <td>0</td>\n",
       "      <td>20</td>\n",
       "      <td>0.0</td>\n",
       "      <td>0</td>\n",
       "      <td>0.5941</td>\n",
       "    </tr>\n",
       "    <tr>\n",
       "      <th>24856</th>\n",
       "      <td>33.843300</td>\n",
       "      <td>-118.317802</td>\n",
       "      <td>4</td>\n",
       "      <td>3</td>\n",
       "      <td>0</td>\n",
       "      <td>20</td>\n",
       "      <td>0.0</td>\n",
       "      <td>0</td>\n",
       "      <td>0.6165</td>\n",
       "    </tr>\n",
       "  </tbody>\n",
       "</table>\n",
       "<p>4057 rows × 9 columns</p>\n",
       "</div>"
      ],
      "text/plain": [
       "\n",
       "             lat         lon  minutes_remaining  period  playoffs  \\\n",
       "\u001b[1;36m29350\u001b[0m  \u001b[1;36m33.937302\u001b[0m \u001b[1;36m-118.150803\u001b[0m                  \u001b[1;36m6\u001b[0m       \u001b[1;36m4\u001b[0m         \u001b[1;36m1\u001b[0m   \n",
       "\u001b[1;36m6911\u001b[0m   \u001b[1;36m34.044300\u001b[0m \u001b[1;36m-118.423798\u001b[0m                 \u001b[1;36m11\u001b[0m       \u001b[1;36m1\u001b[0m         \u001b[1;36m0\u001b[0m   \n",
       "\u001b[1;36m23696\u001b[0m  \u001b[1;36m34.044300\u001b[0m \u001b[1;36m-118.269798\u001b[0m                  \u001b[1;36m5\u001b[0m       \u001b[1;36m2\u001b[0m         \u001b[1;36m0\u001b[0m   \n",
       "\u001b[1;36m29743\u001b[0m  \u001b[1;36m33.865299\u001b[0m \u001b[1;36m-118.186798\u001b[0m                  \u001b[1;36m3\u001b[0m       \u001b[1;36m3\u001b[0m         \u001b[1;36m1\u001b[0m   \n",
       "\u001b[1;36m26082\u001b[0m  \u001b[1;36m33.912300\u001b[0m \u001b[1;36m-118.326797\u001b[0m                  \u001b[1;36m1\u001b[0m       \u001b[1;36m3\u001b[0m         \u001b[1;36m0\u001b[0m   \n",
       "\u001b[33m...\u001b[0m          \u001b[33m...\u001b[0m         \u001b[33m...\u001b[0m                \u001b[33m...\u001b[0m     \u001b[33m...\u001b[0m       \u001b[33m...\u001b[0m   \n",
       "\u001b[1;36m15151\u001b[0m  \u001b[1;36m34.044300\u001b[0m \u001b[1;36m-118.269798\u001b[0m                  \u001b[1;36m8\u001b[0m       \u001b[1;36m1\u001b[0m         \u001b[1;36m0\u001b[0m   \n",
       "\u001b[1;36m12072\u001b[0m  \u001b[1;36m34.044300\u001b[0m \u001b[1;36m-118.269798\u001b[0m                  \u001b[1;36m6\u001b[0m       \u001b[1;36m3\u001b[0m         \u001b[1;36m0\u001b[0m   \n",
       "\u001b[1;36m12537\u001b[0m  \u001b[1;36m34.044300\u001b[0m \u001b[1;36m-118.269798\u001b[0m                  \u001b[1;36m0\u001b[0m       \u001b[1;36m1\u001b[0m         \u001b[1;36m0\u001b[0m   \n",
       "\u001b[1;36m20600\u001b[0m  \u001b[1;36m33.880299\u001b[0m \u001b[1;36m-118.389801\u001b[0m                  \u001b[1;36m6\u001b[0m       \u001b[1;36m1\u001b[0m         \u001b[1;36m0\u001b[0m   \n",
       "\u001b[1;36m24856\u001b[0m  \u001b[1;36m33.843300\u001b[0m \u001b[1;36m-118.317802\u001b[0m                  \u001b[1;36m4\u001b[0m       \u001b[1;36m3\u001b[0m         \u001b[1;36m0\u001b[0m   \n",
       "\n",
       "       shot_distance  shot_made_flag  prediction_label  prediction_score  \n",
       "\u001b[1;36m29350\u001b[0m             \u001b[1;36m16\u001b[0m             \u001b[1;36m0.0\u001b[0m                 \u001b[1;36m0\u001b[0m            \u001b[1;36m0.6120\u001b[0m  \n",
       "\u001b[1;36m6911\u001b[0m              \u001b[1;36m15\u001b[0m             \u001b[1;36m0.0\u001b[0m                 \u001b[1;36m0\u001b[0m            \u001b[1;36m0.5536\u001b[0m  \n",
       "\u001b[1;36m23696\u001b[0m              \u001b[1;36m0\u001b[0m             \u001b[1;36m0.0\u001b[0m                 \u001b[1;36m1\u001b[0m            \u001b[1;36m0.5963\u001b[0m  \n",
       "\u001b[1;36m29743\u001b[0m             \u001b[1;36m19\u001b[0m             \u001b[1;36m0.0\u001b[0m                 \u001b[1;36m0\u001b[0m            \u001b[1;36m0.6278\u001b[0m  \n",
       "\u001b[1;36m26082\u001b[0m             \u001b[1;36m14\u001b[0m             \u001b[1;36m1.0\u001b[0m                 \u001b[1;36m0\u001b[0m            \u001b[1;36m0.5673\u001b[0m  \n",
       "\u001b[33m...\u001b[0m              \u001b[33m...\u001b[0m             \u001b[33m...\u001b[0m               \u001b[33m...\u001b[0m               \u001b[33m...\u001b[0m  \n",
       "\u001b[1;36m15151\u001b[0m              \u001b[1;36m0\u001b[0m             \u001b[1;36m1.0\u001b[0m                 \u001b[1;36m1\u001b[0m            \u001b[1;36m0.6152\u001b[0m  \n",
       "\u001b[1;36m12072\u001b[0m              \u001b[1;36m0\u001b[0m             \u001b[1;36m1.0\u001b[0m                 \u001b[1;36m1\u001b[0m            \u001b[1;36m0.5890\u001b[0m  \n",
       "\u001b[1;36m12537\u001b[0m              \u001b[1;36m0\u001b[0m             \u001b[1;36m0.0\u001b[0m                 \u001b[1;36m1\u001b[0m            \u001b[1;36m0.5916\u001b[0m  \n",
       "\u001b[1;36m20600\u001b[0m             \u001b[1;36m20\u001b[0m             \u001b[1;36m0.0\u001b[0m                 \u001b[1;36m0\u001b[0m            \u001b[1;36m0.5941\u001b[0m  \n",
       "\u001b[1;36m24856\u001b[0m             \u001b[1;36m20\u001b[0m             \u001b[1;36m0.0\u001b[0m                 \u001b[1;36m0\u001b[0m            \u001b[1;36m0.6165\u001b[0m  \n",
       "\n",
       "\u001b[1m[\u001b[0m\u001b[1;36m4057\u001b[0m rows x \u001b[1;36m9\u001b[0m columns\u001b[1m]\u001b[0m"
      ]
     },
     "execution_count": 30,
     "metadata": {},
     "output_type": "execute_result"
    }
   ],
   "source": [
    "test_predictions"
   ]
  },
  {
   "cell_type": "code",
   "execution_count": 31,
   "id": "c57f355b-e659-422e-8dd1-b1c8cd73da12",
   "metadata": {},
   "outputs": [
    {
     "data": {
      "text/html": [
       "<pre style=\"white-space:pre;overflow-x:auto;line-height:normal;font-family:Menlo,'DejaVu Sans Mono',consolas,'Courier New',monospace\"></pre>\n"
      ],
      "text/plain": []
     },
     "metadata": {},
     "output_type": "display_data"
    },
    {
     "data": {
      "text/plain": [
       "\u001b[1;36m0.5245441795231417\u001b[0m"
      ]
     },
     "execution_count": 31,
     "metadata": {},
     "output_type": "execute_result"
    }
   ],
   "source": [
    "from sklearn.metrics import f1_score\n",
    "predicted_labels = test_predictions['prediction_label']\n",
    "f1 = f1_score(true_labels, predicted_labels)\n",
    "f1"
   ]
  },
  {
   "cell_type": "code",
   "execution_count": 1,
   "id": "44e77385-3ea3-43a7-94ad-5f1a4b5a03f5",
   "metadata": {},
   "outputs": [
    {
     "data": {
      "text/html": [
       "<pre style=\"white-space:pre;overflow-x:auto;line-height:normal;font-family:Menlo,'DejaVu Sans Mono',consolas,'Courier New',monospace\"><span style=\"color: #ff0000; text-decoration-color: #ff0000\">╭──────────────────────────────────────────────────────────────────────────────────────────────────╮</span>\n",
       "<span style=\"color: #ff0000; text-decoration-color: #ff0000\">│</span> mlflow models serve -m runs:<span style=\"color: #800080; text-decoration-color: #800080\">/c72493264c9147eb88437811c3941233/</span><span style=\"color: #ff00ff; text-decoration-color: #ff00ff\">model</span> -p <span style=\"color: #0000ff; text-decoration-color: #0000ff\">5000</span>                      <span style=\"color: #ff0000; text-decoration-color: #ff0000\">│</span>\n",
       "<span style=\"color: #ff0000; text-decoration-color: #ff0000\">│</span>        <span style=\"color: #ff0000; text-decoration-color: #ff0000; font-weight: bold\">▲</span>                                                                                         <span style=\"color: #ff0000; text-decoration-color: #ff0000\">│</span>\n",
       "<span style=\"color: #ff0000; text-decoration-color: #ff0000\">╰──────────────────────────────────────────────────────────────────────────────────────────────────╯</span>\n",
       "<span style=\"color: #ff0000; text-decoration-color: #ff0000; font-weight: bold\">SyntaxError: </span>invalid syntax\n",
       "</pre>\n"
      ],
      "text/plain": [
       "\u001b[91m╭──────────────────────────────────────────────────────────────────────────────────────────────────╮\u001b[0m\n",
       "\u001b[91m│\u001b[0m mlflow models serve -m runs:\u001b[35m/c72493264c9147eb88437811c3941233/\u001b[0m\u001b[95mmodel\u001b[0m -p \u001b[94m5000\u001b[0m                      \u001b[91m│\u001b[0m\n",
       "\u001b[91m│\u001b[0m        \u001b[1;91m▲\u001b[0m                                                                                         \u001b[91m│\u001b[0m\n",
       "\u001b[91m╰──────────────────────────────────────────────────────────────────────────────────────────────────╯\u001b[0m\n",
       "\u001b[1;91mSyntaxError: \u001b[0minvalid syntax\n"
      ]
     },
     "metadata": {},
     "output_type": "display_data"
    }
   ],
   "source": [
    "mlflow models serve -m runs:/c72493264c9147eb88437811c3941233/model -p 5000"
   ]
  },
  {
   "cell_type": "code",
   "execution_count": 3,
   "id": "8103e140-5525-4955-b25d-192ad0eb076d",
   "metadata": {},
   "outputs": [
    {
     "name": "stdout",
     "output_type": "stream",
     "text": [
      "file:///C:/Users/Kleber/Documents/curso_intel_artificial/eng_machine_learning/eng_machine_proj_3/kedro-eng-mac-proj-3/mlruns\n"
     ]
    }
   ],
   "source": [
    "import mlflow\n",
    "print(mlflow.get_tracking_uri())"
   ]
  },
  {
   "cell_type": "code",
   "execution_count": null,
   "id": "4fdee327-65ce-43ce-93f7-f8e4832fb45e",
   "metadata": {},
   "outputs": [],
   "source": []
  }
 ],
 "metadata": {
  "kernelspec": {
   "display_name": "Kedro (kedro_eng_mac_proj)",
   "language": "python",
   "name": "kedro_kedro_eng_mac_proj"
  },
  "language_info": {
   "codemirror_mode": {
    "name": "ipython",
    "version": 3
   },
   "file_extension": ".py",
   "mimetype": "text/x-python",
   "name": "python",
   "nbconvert_exporter": "python",
   "pygments_lexer": "ipython3",
   "version": "3.11.9"
  }
 },
 "nbformat": 4,
 "nbformat_minor": 5
}
