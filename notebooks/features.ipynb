{
 "cells": [
  {
   "cell_type": "code",
   "execution_count": 1,
   "id": "6d5ad946-d25f-42ef-9851-a20bb4ec6b36",
   "metadata": {
    "scrolled": true
   },
   "outputs": [
    {
     "data": {
      "text/html": [
       "<pre style=\"white-space:pre;overflow-x:auto;line-height:normal;font-family:Menlo,'DejaVu Sans Mono',consolas,'Courier New',monospace\"><span style=\"color: #7fbfbf; text-decoration-color: #7fbfbf\">[03/20/25 17:32:35] </span><span style=\"color: #000080; text-decoration-color: #000080\">INFO    </span> Loading data from <span style=\"color: #ff8700; text-decoration-color: #ff8700\">data_filtered_dev</span> <span style=\"font-weight: bold\">(</span>ParquetDataset<span style=\"font-weight: bold\">)</span><span style=\"color: #808000; text-decoration-color: #808000\">...</span>            <a href=\"file://C:\\Users\\Kleber\\Documents\\curso_intel_artificial\\eng_machine_learning\\eng_machine_proj\\virt_eng_mac_proj\\Lib\\site-packages\\kedro\\io\\data_catalog.py\" target=\"_blank\"><span style=\"color: #7f7f7f; text-decoration-color: #7f7f7f\">data_catalog.py</span></a><span style=\"color: #7f7f7f; text-decoration-color: #7f7f7f\">:</span><a href=\"file://C:\\Users\\Kleber\\Documents\\curso_intel_artificial\\eng_machine_learning\\eng_machine_proj\\virt_eng_mac_proj\\Lib\\site-packages\\kedro\\io\\data_catalog.py#390\" target=\"_blank\"><span style=\"color: #7f7f7f; text-decoration-color: #7f7f7f\">390</span></a>\n",
       "</pre>\n"
      ],
      "text/plain": [
       "\u001b[2;36m[03/20/25 17:32:35]\u001b[0m\u001b[2;36m \u001b[0m\u001b[34mINFO    \u001b[0m Loading data from \u001b[38;5;208mdata_filtered_dev\u001b[0m \u001b[1m(\u001b[0mParquetDataset\u001b[1m)\u001b[0m\u001b[33m...\u001b[0m            \u001b]8;id=342229;file://C:\\Users\\Kleber\\Documents\\curso_intel_artificial\\eng_machine_learning\\eng_machine_proj\\virt_eng_mac_proj\\Lib\\site-packages\\kedro\\io\\data_catalog.py\u001b\\\u001b[2mdata_catalog.py\u001b[0m\u001b]8;;\u001b\\\u001b[2m:\u001b[0m\u001b]8;id=29077;file://C:\\Users\\Kleber\\Documents\\curso_intel_artificial\\eng_machine_learning\\eng_machine_proj\\virt_eng_mac_proj\\Lib\\site-packages\\kedro\\io\\data_catalog.py#390\u001b\\\u001b[2m390\u001b[0m\u001b]8;;\u001b\\\n"
      ]
     },
     "metadata": {},
     "output_type": "display_data"
    },
    {
     "data": {
      "text/html": [
       "<pre style=\"white-space:pre;overflow-x:auto;line-height:normal;font-family:Menlo,'DejaVu Sans Mono',consolas,'Courier New',monospace\"></pre>\n"
      ],
      "text/plain": []
     },
     "metadata": {},
     "output_type": "display_data"
    },
    {
     "data": {
      "text/html": [
       "<div>\n",
       "<style scoped>\n",
       "    .dataframe tbody tr th:only-of-type {\n",
       "        vertical-align: middle;\n",
       "    }\n",
       "\n",
       "    .dataframe tbody tr th {\n",
       "        vertical-align: top;\n",
       "    }\n",
       "\n",
       "    .dataframe thead th {\n",
       "        text-align: right;\n",
       "    }\n",
       "</style>\n",
       "<table border=\"1\" class=\"dataframe\">\n",
       "  <thead>\n",
       "    <tr style=\"text-align: right;\">\n",
       "      <th></th>\n",
       "      <th>lat</th>\n",
       "      <th>lon</th>\n",
       "      <th>minutes_remaining</th>\n",
       "      <th>period</th>\n",
       "      <th>playoffs</th>\n",
       "      <th>shot_distance</th>\n",
       "      <th>shot_made_flag</th>\n",
       "    </tr>\n",
       "  </thead>\n",
       "  <tbody>\n",
       "    <tr>\n",
       "      <th>1</th>\n",
       "      <td>34.0443</td>\n",
       "      <td>-118.4268</td>\n",
       "      <td>10</td>\n",
       "      <td>1</td>\n",
       "      <td>0</td>\n",
       "      <td>15</td>\n",
       "      <td>0.0</td>\n",
       "    </tr>\n",
       "    <tr>\n",
       "      <th>2</th>\n",
       "      <td>33.9093</td>\n",
       "      <td>-118.3708</td>\n",
       "      <td>7</td>\n",
       "      <td>1</td>\n",
       "      <td>0</td>\n",
       "      <td>16</td>\n",
       "      <td>1.0</td>\n",
       "    </tr>\n",
       "    <tr>\n",
       "      <th>3</th>\n",
       "      <td>33.8693</td>\n",
       "      <td>-118.1318</td>\n",
       "      <td>6</td>\n",
       "      <td>1</td>\n",
       "      <td>0</td>\n",
       "      <td>22</td>\n",
       "      <td>0.0</td>\n",
       "    </tr>\n",
       "    <tr>\n",
       "      <th>4</th>\n",
       "      <td>34.0443</td>\n",
       "      <td>-118.2698</td>\n",
       "      <td>6</td>\n",
       "      <td>2</td>\n",
       "      <td>0</td>\n",
       "      <td>0</td>\n",
       "      <td>1.0</td>\n",
       "    </tr>\n",
       "    <tr>\n",
       "      <th>5</th>\n",
       "      <td>34.0553</td>\n",
       "      <td>-118.4148</td>\n",
       "      <td>9</td>\n",
       "      <td>3</td>\n",
       "      <td>0</td>\n",
       "      <td>14</td>\n",
       "      <td>0.0</td>\n",
       "    </tr>\n",
       "    <tr>\n",
       "      <th>...</th>\n",
       "      <td>...</td>\n",
       "      <td>...</td>\n",
       "      <td>...</td>\n",
       "      <td>...</td>\n",
       "      <td>...</td>\n",
       "      <td>...</td>\n",
       "      <td>...</td>\n",
       "    </tr>\n",
       "    <tr>\n",
       "      <th>30690</th>\n",
       "      <td>33.9443</td>\n",
       "      <td>-118.3828</td>\n",
       "      <td>11</td>\n",
       "      <td>4</td>\n",
       "      <td>1</td>\n",
       "      <td>15</td>\n",
       "      <td>0.0</td>\n",
       "    </tr>\n",
       "    <tr>\n",
       "      <th>30691</th>\n",
       "      <td>34.0443</td>\n",
       "      <td>-118.2698</td>\n",
       "      <td>7</td>\n",
       "      <td>4</td>\n",
       "      <td>1</td>\n",
       "      <td>0</td>\n",
       "      <td>0.0</td>\n",
       "    </tr>\n",
       "    <tr>\n",
       "      <th>30692</th>\n",
       "      <td>33.9963</td>\n",
       "      <td>-118.2688</td>\n",
       "      <td>6</td>\n",
       "      <td>4</td>\n",
       "      <td>1</td>\n",
       "      <td>4</td>\n",
       "      <td>0.0</td>\n",
       "    </tr>\n",
       "    <tr>\n",
       "      <th>30694</th>\n",
       "      <td>33.8783</td>\n",
       "      <td>-118.4038</td>\n",
       "      <td>3</td>\n",
       "      <td>4</td>\n",
       "      <td>1</td>\n",
       "      <td>21</td>\n",
       "      <td>1.0</td>\n",
       "    </tr>\n",
       "    <tr>\n",
       "      <th>30696</th>\n",
       "      <td>33.9723</td>\n",
       "      <td>-118.2688</td>\n",
       "      <td>0</td>\n",
       "      <td>4</td>\n",
       "      <td>1</td>\n",
       "      <td>7</td>\n",
       "      <td>0.0</td>\n",
       "    </tr>\n",
       "  </tbody>\n",
       "</table>\n",
       "<p>20285 rows × 7 columns</p>\n",
       "</div>"
      ],
      "text/plain": [
       "\n",
       "           lat       lon  minutes_remaining  period  playoffs  shot_distance  \\\n",
       "\u001b[1;36m1\u001b[0m      \u001b[1;36m34.0443\u001b[0m \u001b[1;36m-118.4268\u001b[0m                 \u001b[1;36m10\u001b[0m       \u001b[1;36m1\u001b[0m         \u001b[1;36m0\u001b[0m             \u001b[1;36m15\u001b[0m   \n",
       "\u001b[1;36m2\u001b[0m      \u001b[1;36m33.9093\u001b[0m \u001b[1;36m-118.3708\u001b[0m                  \u001b[1;36m7\u001b[0m       \u001b[1;36m1\u001b[0m         \u001b[1;36m0\u001b[0m             \u001b[1;36m16\u001b[0m   \n",
       "\u001b[1;36m3\u001b[0m      \u001b[1;36m33.8693\u001b[0m \u001b[1;36m-118.1318\u001b[0m                  \u001b[1;36m6\u001b[0m       \u001b[1;36m1\u001b[0m         \u001b[1;36m0\u001b[0m             \u001b[1;36m22\u001b[0m   \n",
       "\u001b[1;36m4\u001b[0m      \u001b[1;36m34.0443\u001b[0m \u001b[1;36m-118.2698\u001b[0m                  \u001b[1;36m6\u001b[0m       \u001b[1;36m2\u001b[0m         \u001b[1;36m0\u001b[0m              \u001b[1;36m0\u001b[0m   \n",
       "\u001b[1;36m5\u001b[0m      \u001b[1;36m34.0553\u001b[0m \u001b[1;36m-118.4148\u001b[0m                  \u001b[1;36m9\u001b[0m       \u001b[1;36m3\u001b[0m         \u001b[1;36m0\u001b[0m             \u001b[1;36m14\u001b[0m   \n",
       "\u001b[33m...\u001b[0m        \u001b[33m...\u001b[0m       \u001b[33m...\u001b[0m                \u001b[33m...\u001b[0m     \u001b[33m...\u001b[0m       \u001b[33m...\u001b[0m            \u001b[33m...\u001b[0m   \n",
       "\u001b[1;36m30690\u001b[0m  \u001b[1;36m33.9443\u001b[0m \u001b[1;36m-118.3828\u001b[0m                 \u001b[1;36m11\u001b[0m       \u001b[1;36m4\u001b[0m         \u001b[1;36m1\u001b[0m             \u001b[1;36m15\u001b[0m   \n",
       "\u001b[1;36m30691\u001b[0m  \u001b[1;36m34.0443\u001b[0m \u001b[1;36m-118.2698\u001b[0m                  \u001b[1;36m7\u001b[0m       \u001b[1;36m4\u001b[0m         \u001b[1;36m1\u001b[0m              \u001b[1;36m0\u001b[0m   \n",
       "\u001b[1;36m30692\u001b[0m  \u001b[1;36m33.9963\u001b[0m \u001b[1;36m-118.2688\u001b[0m                  \u001b[1;36m6\u001b[0m       \u001b[1;36m4\u001b[0m         \u001b[1;36m1\u001b[0m              \u001b[1;36m4\u001b[0m   \n",
       "\u001b[1;36m30694\u001b[0m  \u001b[1;36m33.8783\u001b[0m \u001b[1;36m-118.4038\u001b[0m                  \u001b[1;36m3\u001b[0m       \u001b[1;36m4\u001b[0m         \u001b[1;36m1\u001b[0m             \u001b[1;36m21\u001b[0m   \n",
       "\u001b[1;36m30696\u001b[0m  \u001b[1;36m33.9723\u001b[0m \u001b[1;36m-118.2688\u001b[0m                  \u001b[1;36m0\u001b[0m       \u001b[1;36m4\u001b[0m         \u001b[1;36m1\u001b[0m              \u001b[1;36m7\u001b[0m   \n",
       "\n",
       "       shot_made_flag  \n",
       "\u001b[1;36m1\u001b[0m                 \u001b[1;36m0.0\u001b[0m  \n",
       "\u001b[1;36m2\u001b[0m                 \u001b[1;36m1.0\u001b[0m  \n",
       "\u001b[1;36m3\u001b[0m                 \u001b[1;36m0.0\u001b[0m  \n",
       "\u001b[1;36m4\u001b[0m                 \u001b[1;36m1.0\u001b[0m  \n",
       "\u001b[1;36m5\u001b[0m                 \u001b[1;36m0.0\u001b[0m  \n",
       "\u001b[33m...\u001b[0m               \u001b[33m...\u001b[0m  \n",
       "\u001b[1;36m30690\u001b[0m             \u001b[1;36m0.0\u001b[0m  \n",
       "\u001b[1;36m30691\u001b[0m             \u001b[1;36m0.0\u001b[0m  \n",
       "\u001b[1;36m30692\u001b[0m             \u001b[1;36m0.0\u001b[0m  \n",
       "\u001b[1;36m30694\u001b[0m             \u001b[1;36m1.0\u001b[0m  \n",
       "\u001b[1;36m30696\u001b[0m             \u001b[1;36m0.0\u001b[0m  \n",
       "\n",
       "\u001b[1m[\u001b[0m\u001b[1;36m20285\u001b[0m rows x \u001b[1;36m7\u001b[0m columns\u001b[1m]\u001b[0m"
      ]
     },
     "execution_count": 1,
     "metadata": {},
     "output_type": "execute_result"
    }
   ],
   "source": [
    "dados_filtrados = catalog.load(\"data_filtered_dev\")\n",
    "dados_filtrados"
   ]
  },
  {
   "cell_type": "code",
   "execution_count": 3,
   "id": "dc45f7af-e4ac-4799-87ed-d93ff509a27a",
   "metadata": {},
   "outputs": [],
   "source": [
    "X = dados_filtrados.drop(columns=['shot_made_flag'])\n",
    "y = dados_filtrados['shot_made_flag']"
   ]
  },
  {
   "cell_type": "code",
   "execution_count": 5,
   "id": "65dccad9-0316-40f9-88f4-a92a679c2fb4",
   "metadata": {},
   "outputs": [
    {
     "data": {
      "text/html": [
       "<pre style=\"white-space:pre;overflow-x:auto;line-height:normal;font-family:Menlo,'DejaVu Sans Mono',consolas,'Courier New',monospace\"></pre>\n"
      ],
      "text/plain": []
     },
     "metadata": {},
     "output_type": "display_data"
    },
    {
     "data": {
      "text/plain": [
       "\n",
       "\u001b[1;36m1\u001b[0m        \u001b[1;36m0.0\u001b[0m\n",
       "\u001b[1;36m2\u001b[0m        \u001b[1;36m1.0\u001b[0m\n",
       "\u001b[1;36m3\u001b[0m        \u001b[1;36m0.0\u001b[0m\n",
       "\u001b[1;36m4\u001b[0m        \u001b[1;36m1.0\u001b[0m\n",
       "\u001b[1;36m5\u001b[0m        \u001b[1;36m0.0\u001b[0m\n",
       "        \u001b[33m...\u001b[0m \n",
       "\u001b[1;36m30690\u001b[0m    \u001b[1;36m0.0\u001b[0m\n",
       "\u001b[1;36m30691\u001b[0m    \u001b[1;36m0.0\u001b[0m\n",
       "\u001b[1;36m30692\u001b[0m    \u001b[1;36m0.0\u001b[0m\n",
       "\u001b[1;36m30694\u001b[0m    \u001b[1;36m1.0\u001b[0m\n",
       "\u001b[1;36m30696\u001b[0m    \u001b[1;36m0.0\u001b[0m\n",
       "Name: shot_made_flag, Length: \u001b[1;36m20285\u001b[0m, dtype: float64"
      ]
     },
     "execution_count": 5,
     "metadata": {},
     "output_type": "execute_result"
    }
   ],
   "source": [
    "y"
   ]
  },
  {
   "cell_type": "code",
   "execution_count": 7,
   "id": "9a96b051-77f3-4a4c-bdd2-7c5cedb58505",
   "metadata": {},
   "outputs": [],
   "source": [
    "from sklearn.model_selection import train_test_split\n",
    "X_train, X_test, y_train, y_test = train_test_split(X, y, test_size=0.2, random_state=10, stratify=y)"
   ]
  },
  {
   "cell_type": "code",
   "execution_count": 18,
   "id": "080c471c-f88c-42a5-be0e-8820980461c5",
   "metadata": {},
   "outputs": [],
   "source": [
    "X_train.to_parquet('X_train.parquet', index=False)"
   ]
  },
  {
   "cell_type": "code",
   "execution_count": 14,
   "id": "7870d7ca-646a-4fad-8cbd-278e2ad00fe8",
   "metadata": {},
   "outputs": [],
   "source": [
    "import pandas as pd\n",
    "aux = pd.DataFrame(y_train.tolist(), columns=[\"y_train\"])"
   ]
  },
  {
   "cell_type": "code",
   "execution_count": 15,
   "id": "66037240-b908-494d-b5f9-c33362c33759",
   "metadata": {},
   "outputs": [
    {
     "data": {
      "text/html": [
       "<pre style=\"white-space:pre;overflow-x:auto;line-height:normal;font-family:Menlo,'DejaVu Sans Mono',consolas,'Courier New',monospace\"></pre>\n"
      ],
      "text/plain": []
     },
     "metadata": {},
     "output_type": "display_data"
    },
    {
     "data": {
      "text/html": [
       "<div>\n",
       "<style scoped>\n",
       "    .dataframe tbody tr th:only-of-type {\n",
       "        vertical-align: middle;\n",
       "    }\n",
       "\n",
       "    .dataframe tbody tr th {\n",
       "        vertical-align: top;\n",
       "    }\n",
       "\n",
       "    .dataframe thead th {\n",
       "        text-align: right;\n",
       "    }\n",
       "</style>\n",
       "<table border=\"1\" class=\"dataframe\">\n",
       "  <thead>\n",
       "    <tr style=\"text-align: right;\">\n",
       "      <th></th>\n",
       "      <th>y_train</th>\n",
       "    </tr>\n",
       "  </thead>\n",
       "  <tbody>\n",
       "    <tr>\n",
       "      <th>0</th>\n",
       "      <td>0.0</td>\n",
       "    </tr>\n",
       "    <tr>\n",
       "      <th>1</th>\n",
       "      <td>0.0</td>\n",
       "    </tr>\n",
       "    <tr>\n",
       "      <th>2</th>\n",
       "      <td>0.0</td>\n",
       "    </tr>\n",
       "    <tr>\n",
       "      <th>3</th>\n",
       "      <td>0.0</td>\n",
       "    </tr>\n",
       "    <tr>\n",
       "      <th>4</th>\n",
       "      <td>1.0</td>\n",
       "    </tr>\n",
       "    <tr>\n",
       "      <th>...</th>\n",
       "      <td>...</td>\n",
       "    </tr>\n",
       "    <tr>\n",
       "      <th>16223</th>\n",
       "      <td>0.0</td>\n",
       "    </tr>\n",
       "    <tr>\n",
       "      <th>16224</th>\n",
       "      <td>0.0</td>\n",
       "    </tr>\n",
       "    <tr>\n",
       "      <th>16225</th>\n",
       "      <td>1.0</td>\n",
       "    </tr>\n",
       "    <tr>\n",
       "      <th>16226</th>\n",
       "      <td>0.0</td>\n",
       "    </tr>\n",
       "    <tr>\n",
       "      <th>16227</th>\n",
       "      <td>1.0</td>\n",
       "    </tr>\n",
       "  </tbody>\n",
       "</table>\n",
       "<p>16228 rows × 1 columns</p>\n",
       "</div>"
      ],
      "text/plain": [
       "\n",
       "       y_train\n",
       "\u001b[1;36m0\u001b[0m          \u001b[1;36m0.0\u001b[0m\n",
       "\u001b[1;36m1\u001b[0m          \u001b[1;36m0.0\u001b[0m\n",
       "\u001b[1;36m2\u001b[0m          \u001b[1;36m0.0\u001b[0m\n",
       "\u001b[1;36m3\u001b[0m          \u001b[1;36m0.0\u001b[0m\n",
       "\u001b[1;36m4\u001b[0m          \u001b[1;36m1.0\u001b[0m\n",
       "\u001b[33m...\u001b[0m        \u001b[33m...\u001b[0m\n",
       "\u001b[1;36m16223\u001b[0m      \u001b[1;36m0.0\u001b[0m\n",
       "\u001b[1;36m16224\u001b[0m      \u001b[1;36m0.0\u001b[0m\n",
       "\u001b[1;36m16225\u001b[0m      \u001b[1;36m1.0\u001b[0m\n",
       "\u001b[1;36m16226\u001b[0m      \u001b[1;36m0.0\u001b[0m\n",
       "\u001b[1;36m16227\u001b[0m      \u001b[1;36m1.0\u001b[0m\n",
       "\n",
       "\u001b[1m[\u001b[0m\u001b[1;36m16228\u001b[0m rows x \u001b[1;36m1\u001b[0m columns\u001b[1m]\u001b[0m"
      ]
     },
     "execution_count": 15,
     "metadata": {},
     "output_type": "execute_result"
    }
   ],
   "source": [
    "aux"
   ]
  },
  {
   "cell_type": "code",
   "execution_count": 16,
   "id": "b0248a86-d6b1-4fe3-b379-e712ab7adac0",
   "metadata": {},
   "outputs": [],
   "source": [
    "aux = pd.DataFrame(y_test.tolist(), columns=[\"y_test\"])"
   ]
  },
  {
   "cell_type": "code",
   "execution_count": 17,
   "id": "7ce539a6-78c4-41c6-91c9-917e3582785a",
   "metadata": {},
   "outputs": [
    {
     "data": {
      "text/html": [
       "<pre style=\"white-space:pre;overflow-x:auto;line-height:normal;font-family:Menlo,'DejaVu Sans Mono',consolas,'Courier New',monospace\"></pre>\n"
      ],
      "text/plain": []
     },
     "metadata": {},
     "output_type": "display_data"
    },
    {
     "data": {
      "text/html": [
       "<div>\n",
       "<style scoped>\n",
       "    .dataframe tbody tr th:only-of-type {\n",
       "        vertical-align: middle;\n",
       "    }\n",
       "\n",
       "    .dataframe tbody tr th {\n",
       "        vertical-align: top;\n",
       "    }\n",
       "\n",
       "    .dataframe thead th {\n",
       "        text-align: right;\n",
       "    }\n",
       "</style>\n",
       "<table border=\"1\" class=\"dataframe\">\n",
       "  <thead>\n",
       "    <tr style=\"text-align: right;\">\n",
       "      <th></th>\n",
       "      <th>y_test</th>\n",
       "    </tr>\n",
       "  </thead>\n",
       "  <tbody>\n",
       "    <tr>\n",
       "      <th>0</th>\n",
       "      <td>0.0</td>\n",
       "    </tr>\n",
       "    <tr>\n",
       "      <th>1</th>\n",
       "      <td>0.0</td>\n",
       "    </tr>\n",
       "    <tr>\n",
       "      <th>2</th>\n",
       "      <td>0.0</td>\n",
       "    </tr>\n",
       "    <tr>\n",
       "      <th>3</th>\n",
       "      <td>0.0</td>\n",
       "    </tr>\n",
       "    <tr>\n",
       "      <th>4</th>\n",
       "      <td>1.0</td>\n",
       "    </tr>\n",
       "    <tr>\n",
       "      <th>...</th>\n",
       "      <td>...</td>\n",
       "    </tr>\n",
       "    <tr>\n",
       "      <th>4052</th>\n",
       "      <td>1.0</td>\n",
       "    </tr>\n",
       "    <tr>\n",
       "      <th>4053</th>\n",
       "      <td>1.0</td>\n",
       "    </tr>\n",
       "    <tr>\n",
       "      <th>4054</th>\n",
       "      <td>0.0</td>\n",
       "    </tr>\n",
       "    <tr>\n",
       "      <th>4055</th>\n",
       "      <td>0.0</td>\n",
       "    </tr>\n",
       "    <tr>\n",
       "      <th>4056</th>\n",
       "      <td>0.0</td>\n",
       "    </tr>\n",
       "  </tbody>\n",
       "</table>\n",
       "<p>4057 rows × 1 columns</p>\n",
       "</div>"
      ],
      "text/plain": [
       "\n",
       "      y_test\n",
       "\u001b[1;36m0\u001b[0m        \u001b[1;36m0.0\u001b[0m\n",
       "\u001b[1;36m1\u001b[0m        \u001b[1;36m0.0\u001b[0m\n",
       "\u001b[1;36m2\u001b[0m        \u001b[1;36m0.0\u001b[0m\n",
       "\u001b[1;36m3\u001b[0m        \u001b[1;36m0.0\u001b[0m\n",
       "\u001b[1;36m4\u001b[0m        \u001b[1;36m1.0\u001b[0m\n",
       "\u001b[33m...\u001b[0m      \u001b[33m...\u001b[0m\n",
       "\u001b[1;36m4052\u001b[0m     \u001b[1;36m1.0\u001b[0m\n",
       "\u001b[1;36m4053\u001b[0m     \u001b[1;36m1.0\u001b[0m\n",
       "\u001b[1;36m4054\u001b[0m     \u001b[1;36m0.0\u001b[0m\n",
       "\u001b[1;36m4055\u001b[0m     \u001b[1;36m0.0\u001b[0m\n",
       "\u001b[1;36m4056\u001b[0m     \u001b[1;36m0.0\u001b[0m\n",
       "\n",
       "\u001b[1m[\u001b[0m\u001b[1;36m4057\u001b[0m rows x \u001b[1;36m1\u001b[0m columns\u001b[1m]\u001b[0m"
      ]
     },
     "execution_count": 17,
     "metadata": {},
     "output_type": "execute_result"
    }
   ],
   "source": [
    "aux"
   ]
  }
 ],
 "metadata": {
  "kernelspec": {
   "display_name": "Kedro (kedro_eng_mac_proj)",
   "language": "python",
   "name": "kedro_kedro_eng_mac_proj"
  },
  "language_info": {
   "codemirror_mode": {
    "name": "ipython",
    "version": 3
   },
   "file_extension": ".py",
   "mimetype": "text/x-python",
   "name": "python",
   "nbconvert_exporter": "python",
   "pygments_lexer": "ipython3",
   "version": "3.11.9"
  }
 },
 "nbformat": 4,
 "nbformat_minor": 5
}
